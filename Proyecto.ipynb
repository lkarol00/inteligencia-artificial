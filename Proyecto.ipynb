{
 "cells": [
  {
   "cell_type": "markdown",
   "metadata": {},
   "source": [
    "# Proyecto: Student performance"
   ]
  },
  {
   "cell_type": "markdown",
   "metadata": {},
   "source": [
    "Lo principal fue tomar los datos de los dos datasets suministrados por UCI (https://archive.ics.uci.edu/ml/datasets/Student+Performance) y juntarlos en un sólo dataset para tener toda la información en un mismo lugar para revisar desde un mismo dataset si se encuentran valores atípicos o nulos. Luego, se volverán a usar ambos datasets por separado y se harán los respectivos cambios si se encuentra alguna inconsistencia con las tablas."
   ]
  },
  {
   "cell_type": "code",
   "execution_count": 1,
   "metadata": {},
   "outputs": [],
   "source": [
    "import pandas as pd\n",
    "from sklearn import preprocessing\n",
    "import numpy as np"
   ]
  },
  {
   "cell_type": "code",
   "execution_count": 2,
   "metadata": {},
   "outputs": [
    {
     "name": "stdout",
     "output_type": "stream",
     "text": [
      "Número de muestras:  1044\n",
      "Número de características:  33\n"
     ]
    }
   ],
   "source": [
    "data_mat = pd.read_csv('student-mat.csv', sep=\";\")\n",
    "data_por = pd.read_csv('student-por.csv', sep=\";\")\n",
    "\n",
    "data = pd.concat([data_mat, data_por])\n",
    "print(\"Número de muestras: \", data.shape[0])\n",
    "print(\"Número de características: \", data.shape[1])"
   ]
  },
  {
   "cell_type": "code",
   "execution_count": 3,
   "metadata": {},
   "outputs": [
    {
     "data": {
      "text/html": [
       "<div>\n",
       "<style scoped>\n",
       "    .dataframe tbody tr th:only-of-type {\n",
       "        vertical-align: middle;\n",
       "    }\n",
       "\n",
       "    .dataframe tbody tr th {\n",
       "        vertical-align: top;\n",
       "    }\n",
       "\n",
       "    .dataframe thead th {\n",
       "        text-align: right;\n",
       "    }\n",
       "</style>\n",
       "<table border=\"1\" class=\"dataframe\">\n",
       "  <thead>\n",
       "    <tr style=\"text-align: right;\">\n",
       "      <th></th>\n",
       "      <th>school</th>\n",
       "      <th>sex</th>\n",
       "      <th>age</th>\n",
       "      <th>address</th>\n",
       "      <th>famsize</th>\n",
       "      <th>Pstatus</th>\n",
       "      <th>Medu</th>\n",
       "      <th>Fedu</th>\n",
       "      <th>Mjob</th>\n",
       "      <th>Fjob</th>\n",
       "      <th>...</th>\n",
       "      <th>famrel</th>\n",
       "      <th>freetime</th>\n",
       "      <th>goout</th>\n",
       "      <th>Dalc</th>\n",
       "      <th>Walc</th>\n",
       "      <th>health</th>\n",
       "      <th>absences</th>\n",
       "      <th>G1</th>\n",
       "      <th>G2</th>\n",
       "      <th>G3</th>\n",
       "    </tr>\n",
       "  </thead>\n",
       "  <tbody>\n",
       "    <tr>\n",
       "      <th>0</th>\n",
       "      <td>GP</td>\n",
       "      <td>F</td>\n",
       "      <td>18</td>\n",
       "      <td>U</td>\n",
       "      <td>GT3</td>\n",
       "      <td>A</td>\n",
       "      <td>4</td>\n",
       "      <td>4</td>\n",
       "      <td>at_home</td>\n",
       "      <td>teacher</td>\n",
       "      <td>...</td>\n",
       "      <td>4</td>\n",
       "      <td>3</td>\n",
       "      <td>4</td>\n",
       "      <td>1</td>\n",
       "      <td>1</td>\n",
       "      <td>3</td>\n",
       "      <td>6</td>\n",
       "      <td>5</td>\n",
       "      <td>6</td>\n",
       "      <td>6</td>\n",
       "    </tr>\n",
       "    <tr>\n",
       "      <th>1</th>\n",
       "      <td>GP</td>\n",
       "      <td>F</td>\n",
       "      <td>17</td>\n",
       "      <td>U</td>\n",
       "      <td>GT3</td>\n",
       "      <td>T</td>\n",
       "      <td>1</td>\n",
       "      <td>1</td>\n",
       "      <td>at_home</td>\n",
       "      <td>other</td>\n",
       "      <td>...</td>\n",
       "      <td>5</td>\n",
       "      <td>3</td>\n",
       "      <td>3</td>\n",
       "      <td>1</td>\n",
       "      <td>1</td>\n",
       "      <td>3</td>\n",
       "      <td>4</td>\n",
       "      <td>5</td>\n",
       "      <td>5</td>\n",
       "      <td>6</td>\n",
       "    </tr>\n",
       "    <tr>\n",
       "      <th>2</th>\n",
       "      <td>GP</td>\n",
       "      <td>F</td>\n",
       "      <td>15</td>\n",
       "      <td>U</td>\n",
       "      <td>LE3</td>\n",
       "      <td>T</td>\n",
       "      <td>1</td>\n",
       "      <td>1</td>\n",
       "      <td>at_home</td>\n",
       "      <td>other</td>\n",
       "      <td>...</td>\n",
       "      <td>4</td>\n",
       "      <td>3</td>\n",
       "      <td>2</td>\n",
       "      <td>2</td>\n",
       "      <td>3</td>\n",
       "      <td>3</td>\n",
       "      <td>10</td>\n",
       "      <td>7</td>\n",
       "      <td>8</td>\n",
       "      <td>10</td>\n",
       "    </tr>\n",
       "    <tr>\n",
       "      <th>3</th>\n",
       "      <td>GP</td>\n",
       "      <td>F</td>\n",
       "      <td>15</td>\n",
       "      <td>U</td>\n",
       "      <td>GT3</td>\n",
       "      <td>T</td>\n",
       "      <td>4</td>\n",
       "      <td>2</td>\n",
       "      <td>health</td>\n",
       "      <td>services</td>\n",
       "      <td>...</td>\n",
       "      <td>3</td>\n",
       "      <td>2</td>\n",
       "      <td>2</td>\n",
       "      <td>1</td>\n",
       "      <td>1</td>\n",
       "      <td>5</td>\n",
       "      <td>2</td>\n",
       "      <td>15</td>\n",
       "      <td>14</td>\n",
       "      <td>15</td>\n",
       "    </tr>\n",
       "    <tr>\n",
       "      <th>4</th>\n",
       "      <td>GP</td>\n",
       "      <td>F</td>\n",
       "      <td>16</td>\n",
       "      <td>U</td>\n",
       "      <td>GT3</td>\n",
       "      <td>T</td>\n",
       "      <td>3</td>\n",
       "      <td>3</td>\n",
       "      <td>other</td>\n",
       "      <td>other</td>\n",
       "      <td>...</td>\n",
       "      <td>4</td>\n",
       "      <td>3</td>\n",
       "      <td>2</td>\n",
       "      <td>1</td>\n",
       "      <td>2</td>\n",
       "      <td>5</td>\n",
       "      <td>4</td>\n",
       "      <td>6</td>\n",
       "      <td>10</td>\n",
       "      <td>10</td>\n",
       "    </tr>\n",
       "    <tr>\n",
       "      <th>5</th>\n",
       "      <td>GP</td>\n",
       "      <td>M</td>\n",
       "      <td>16</td>\n",
       "      <td>U</td>\n",
       "      <td>LE3</td>\n",
       "      <td>T</td>\n",
       "      <td>4</td>\n",
       "      <td>3</td>\n",
       "      <td>services</td>\n",
       "      <td>other</td>\n",
       "      <td>...</td>\n",
       "      <td>5</td>\n",
       "      <td>4</td>\n",
       "      <td>2</td>\n",
       "      <td>1</td>\n",
       "      <td>2</td>\n",
       "      <td>5</td>\n",
       "      <td>10</td>\n",
       "      <td>15</td>\n",
       "      <td>15</td>\n",
       "      <td>15</td>\n",
       "    </tr>\n",
       "    <tr>\n",
       "      <th>6</th>\n",
       "      <td>GP</td>\n",
       "      <td>M</td>\n",
       "      <td>16</td>\n",
       "      <td>U</td>\n",
       "      <td>LE3</td>\n",
       "      <td>T</td>\n",
       "      <td>2</td>\n",
       "      <td>2</td>\n",
       "      <td>other</td>\n",
       "      <td>other</td>\n",
       "      <td>...</td>\n",
       "      <td>4</td>\n",
       "      <td>4</td>\n",
       "      <td>4</td>\n",
       "      <td>1</td>\n",
       "      <td>1</td>\n",
       "      <td>3</td>\n",
       "      <td>0</td>\n",
       "      <td>12</td>\n",
       "      <td>12</td>\n",
       "      <td>11</td>\n",
       "    </tr>\n",
       "    <tr>\n",
       "      <th>7</th>\n",
       "      <td>GP</td>\n",
       "      <td>F</td>\n",
       "      <td>17</td>\n",
       "      <td>U</td>\n",
       "      <td>GT3</td>\n",
       "      <td>A</td>\n",
       "      <td>4</td>\n",
       "      <td>4</td>\n",
       "      <td>other</td>\n",
       "      <td>teacher</td>\n",
       "      <td>...</td>\n",
       "      <td>4</td>\n",
       "      <td>1</td>\n",
       "      <td>4</td>\n",
       "      <td>1</td>\n",
       "      <td>1</td>\n",
       "      <td>1</td>\n",
       "      <td>6</td>\n",
       "      <td>6</td>\n",
       "      <td>5</td>\n",
       "      <td>6</td>\n",
       "    </tr>\n",
       "    <tr>\n",
       "      <th>8</th>\n",
       "      <td>GP</td>\n",
       "      <td>M</td>\n",
       "      <td>15</td>\n",
       "      <td>U</td>\n",
       "      <td>LE3</td>\n",
       "      <td>A</td>\n",
       "      <td>3</td>\n",
       "      <td>2</td>\n",
       "      <td>services</td>\n",
       "      <td>other</td>\n",
       "      <td>...</td>\n",
       "      <td>4</td>\n",
       "      <td>2</td>\n",
       "      <td>2</td>\n",
       "      <td>1</td>\n",
       "      <td>1</td>\n",
       "      <td>1</td>\n",
       "      <td>0</td>\n",
       "      <td>16</td>\n",
       "      <td>18</td>\n",
       "      <td>19</td>\n",
       "    </tr>\n",
       "    <tr>\n",
       "      <th>9</th>\n",
       "      <td>GP</td>\n",
       "      <td>M</td>\n",
       "      <td>15</td>\n",
       "      <td>U</td>\n",
       "      <td>GT3</td>\n",
       "      <td>T</td>\n",
       "      <td>3</td>\n",
       "      <td>4</td>\n",
       "      <td>other</td>\n",
       "      <td>other</td>\n",
       "      <td>...</td>\n",
       "      <td>5</td>\n",
       "      <td>5</td>\n",
       "      <td>1</td>\n",
       "      <td>1</td>\n",
       "      <td>1</td>\n",
       "      <td>5</td>\n",
       "      <td>0</td>\n",
       "      <td>14</td>\n",
       "      <td>15</td>\n",
       "      <td>15</td>\n",
       "    </tr>\n",
       "  </tbody>\n",
       "</table>\n",
       "<p>10 rows × 33 columns</p>\n",
       "</div>"
      ],
      "text/plain": [
       "  school sex  age address famsize Pstatus  Medu  Fedu      Mjob      Fjob  \\\n",
       "0     GP   F   18       U     GT3       A     4     4   at_home   teacher   \n",
       "1     GP   F   17       U     GT3       T     1     1   at_home     other   \n",
       "2     GP   F   15       U     LE3       T     1     1   at_home     other   \n",
       "3     GP   F   15       U     GT3       T     4     2    health  services   \n",
       "4     GP   F   16       U     GT3       T     3     3     other     other   \n",
       "5     GP   M   16       U     LE3       T     4     3  services     other   \n",
       "6     GP   M   16       U     LE3       T     2     2     other     other   \n",
       "7     GP   F   17       U     GT3       A     4     4     other   teacher   \n",
       "8     GP   M   15       U     LE3       A     3     2  services     other   \n",
       "9     GP   M   15       U     GT3       T     3     4     other     other   \n",
       "\n",
       "   ... famrel freetime  goout  Dalc  Walc health absences  G1  G2  G3  \n",
       "0  ...      4        3      4     1     1      3        6   5   6   6  \n",
       "1  ...      5        3      3     1     1      3        4   5   5   6  \n",
       "2  ...      4        3      2     2     3      3       10   7   8  10  \n",
       "3  ...      3        2      2     1     1      5        2  15  14  15  \n",
       "4  ...      4        3      2     1     2      5        4   6  10  10  \n",
       "5  ...      5        4      2     1     2      5       10  15  15  15  \n",
       "6  ...      4        4      4     1     1      3        0  12  12  11  \n",
       "7  ...      4        1      4     1     1      1        6   6   5   6  \n",
       "8  ...      4        2      2     1     1      1        0  16  18  19  \n",
       "9  ...      5        5      1     1     1      5        0  14  15  15  \n",
       "\n",
       "[10 rows x 33 columns]"
      ]
     },
     "execution_count": 3,
     "metadata": {},
     "output_type": "execute_result"
    }
   ],
   "source": [
    "data.head(10)"
   ]
  },
  {
   "cell_type": "markdown",
   "metadata": {},
   "source": [
    "## Limpieza de datos"
   ]
  },
  {
   "cell_type": "markdown",
   "metadata": {},
   "source": [
    "Con la información configurada en un sólo dataset se procede a realizar la limpieza de datos observando los valores que se encuentran en cada columna con el fin de encontrar valores atípicos o nulos."
   ]
  },
  {
   "cell_type": "code",
   "execution_count": 4,
   "metadata": {},
   "outputs": [
    {
     "data": {
      "text/plain": [
       "school        object\n",
       "sex           object\n",
       "age            int64\n",
       "address       object\n",
       "famsize       object\n",
       "Pstatus       object\n",
       "Medu           int64\n",
       "Fedu           int64\n",
       "Mjob          object\n",
       "Fjob          object\n",
       "reason        object\n",
       "guardian      object\n",
       "traveltime     int64\n",
       "studytime      int64\n",
       "failures       int64\n",
       "schoolsup     object\n",
       "famsup        object\n",
       "paid          object\n",
       "activities    object\n",
       "nursery       object\n",
       "higher        object\n",
       "internet      object\n",
       "romantic      object\n",
       "famrel         int64\n",
       "freetime       int64\n",
       "goout          int64\n",
       "Dalc           int64\n",
       "Walc           int64\n",
       "health         int64\n",
       "absences       int64\n",
       "G1             int64\n",
       "G2             int64\n",
       "G3             int64\n",
       "dtype: object"
      ]
     },
     "execution_count": 4,
     "metadata": {},
     "output_type": "execute_result"
    }
   ],
   "source": [
    "data.dtypes"
   ]
  },
  {
   "cell_type": "code",
   "execution_count": 5,
   "metadata": {},
   "outputs": [
    {
     "data": {
      "text/plain": [
       "GP    772\n",
       "MS    272\n",
       "Name: school, dtype: int64"
      ]
     },
     "execution_count": 5,
     "metadata": {},
     "output_type": "execute_result"
    }
   ],
   "source": [
    "data['school'].value_counts()"
   ]
  },
  {
   "cell_type": "code",
   "execution_count": 6,
   "metadata": {},
   "outputs": [
    {
     "data": {
      "text/plain": [
       "F    591\n",
       "M    453\n",
       "Name: sex, dtype: int64"
      ]
     },
     "execution_count": 6,
     "metadata": {},
     "output_type": "execute_result"
    }
   ],
   "source": [
    "data['sex'].value_counts()"
   ]
  },
  {
   "cell_type": "code",
   "execution_count": 7,
   "metadata": {},
   "outputs": [
    {
     "data": {
      "text/plain": [
       "16    281\n",
       "17    277\n",
       "18    222\n",
       "15    194\n",
       "19     56\n",
       "20      9\n",
       "21      3\n",
       "22      2\n",
       "Name: age, dtype: int64"
      ]
     },
     "execution_count": 7,
     "metadata": {},
     "output_type": "execute_result"
    }
   ],
   "source": [
    "data['age'].value_counts()"
   ]
  },
  {
   "cell_type": "code",
   "execution_count": 8,
   "metadata": {},
   "outputs": [
    {
     "data": {
      "text/plain": [
       "U    759\n",
       "R    285\n",
       "Name: address, dtype: int64"
      ]
     },
     "execution_count": 8,
     "metadata": {},
     "output_type": "execute_result"
    }
   ],
   "source": [
    "data['address'].value_counts()"
   ]
  },
  {
   "cell_type": "code",
   "execution_count": 9,
   "metadata": {},
   "outputs": [
    {
     "data": {
      "text/plain": [
       "GT3    738\n",
       "LE3    306\n",
       "Name: famsize, dtype: int64"
      ]
     },
     "execution_count": 9,
     "metadata": {},
     "output_type": "execute_result"
    }
   ],
   "source": [
    "data['famsize'].value_counts()"
   ]
  },
  {
   "cell_type": "code",
   "execution_count": 10,
   "metadata": {},
   "outputs": [
    {
     "data": {
      "text/plain": [
       "T    923\n",
       "A    121\n",
       "Name: Pstatus, dtype: int64"
      ]
     },
     "execution_count": 10,
     "metadata": {},
     "output_type": "execute_result"
    }
   ],
   "source": [
    "data['Pstatus'].value_counts() "
   ]
  },
  {
   "cell_type": "code",
   "execution_count": 11,
   "metadata": {},
   "outputs": [
    {
     "data": {
      "text/plain": [
       "4    306\n",
       "2    289\n",
       "3    238\n",
       "1    202\n",
       "0      9\n",
       "Name: Medu, dtype: int64"
      ]
     },
     "execution_count": 11,
     "metadata": {},
     "output_type": "execute_result"
    }
   ],
   "source": [
    "data['Medu'].value_counts() "
   ]
  },
  {
   "cell_type": "code",
   "execution_count": 12,
   "metadata": {},
   "outputs": [
    {
     "data": {
      "text/plain": [
       "2    324\n",
       "1    256\n",
       "3    231\n",
       "4    224\n",
       "0      9\n",
       "Name: Fedu, dtype: int64"
      ]
     },
     "execution_count": 12,
     "metadata": {},
     "output_type": "execute_result"
    }
   ],
   "source": [
    "data['Fedu'].value_counts() "
   ]
  },
  {
   "cell_type": "code",
   "execution_count": 13,
   "metadata": {},
   "outputs": [
    {
     "data": {
      "text/plain": [
       "other       399\n",
       "services    239\n",
       "at_home     194\n",
       "teacher     130\n",
       "health       82\n",
       "Name: Mjob, dtype: int64"
      ]
     },
     "execution_count": 13,
     "metadata": {},
     "output_type": "execute_result"
    }
   ],
   "source": [
    "data['Mjob'].value_counts() "
   ]
  },
  {
   "cell_type": "code",
   "execution_count": 14,
   "metadata": {},
   "outputs": [
    {
     "data": {
      "text/plain": [
       "other       584\n",
       "services    292\n",
       "teacher      65\n",
       "at_home      62\n",
       "health       41\n",
       "Name: Fjob, dtype: int64"
      ]
     },
     "execution_count": 14,
     "metadata": {},
     "output_type": "execute_result"
    }
   ],
   "source": [
    "data['Fjob'].value_counts() "
   ]
  },
  {
   "cell_type": "code",
   "execution_count": 15,
   "metadata": {},
   "outputs": [
    {
     "data": {
      "text/plain": [
       "course        430\n",
       "home          258\n",
       "reputation    248\n",
       "other         108\n",
       "Name: reason, dtype: int64"
      ]
     },
     "execution_count": 15,
     "metadata": {},
     "output_type": "execute_result"
    }
   ],
   "source": [
    "data['reason'].value_counts() "
   ]
  },
  {
   "cell_type": "code",
   "execution_count": 16,
   "metadata": {},
   "outputs": [
    {
     "data": {
      "text/plain": [
       "mother    728\n",
       "father    243\n",
       "other      73\n",
       "Name: guardian, dtype: int64"
      ]
     },
     "execution_count": 16,
     "metadata": {},
     "output_type": "execute_result"
    }
   ],
   "source": [
    "data['guardian'].value_counts() "
   ]
  },
  {
   "cell_type": "code",
   "execution_count": 17,
   "metadata": {},
   "outputs": [
    {
     "data": {
      "text/plain": [
       "1    623\n",
       "2    320\n",
       "3     77\n",
       "4     24\n",
       "Name: traveltime, dtype: int64"
      ]
     },
     "execution_count": 17,
     "metadata": {},
     "output_type": "execute_result"
    }
   ],
   "source": [
    "data['traveltime'].value_counts() "
   ]
  },
  {
   "cell_type": "code",
   "execution_count": 18,
   "metadata": {},
   "outputs": [
    {
     "data": {
      "text/plain": [
       "2    503\n",
       "1    317\n",
       "3    162\n",
       "4     62\n",
       "Name: studytime, dtype: int64"
      ]
     },
     "execution_count": 18,
     "metadata": {},
     "output_type": "execute_result"
    }
   ],
   "source": [
    "data['studytime'].value_counts() "
   ]
  },
  {
   "cell_type": "code",
   "execution_count": 19,
   "metadata": {},
   "outputs": [
    {
     "data": {
      "text/plain": [
       "0    861\n",
       "1    120\n",
       "2     33\n",
       "3     30\n",
       "Name: failures, dtype: int64"
      ]
     },
     "execution_count": 19,
     "metadata": {},
     "output_type": "execute_result"
    }
   ],
   "source": [
    "data['failures'].value_counts() "
   ]
  },
  {
   "cell_type": "code",
   "execution_count": 20,
   "metadata": {},
   "outputs": [
    {
     "data": {
      "text/plain": [
       "no     925\n",
       "yes    119\n",
       "Name: schoolsup, dtype: int64"
      ]
     },
     "execution_count": 20,
     "metadata": {},
     "output_type": "execute_result"
    }
   ],
   "source": [
    "data['schoolsup'].value_counts() "
   ]
  },
  {
   "cell_type": "code",
   "execution_count": 21,
   "metadata": {},
   "outputs": [
    {
     "data": {
      "text/plain": [
       "yes    640\n",
       "no     404\n",
       "Name: famsup, dtype: int64"
      ]
     },
     "execution_count": 21,
     "metadata": {},
     "output_type": "execute_result"
    }
   ],
   "source": [
    "data['famsup'].value_counts() "
   ]
  },
  {
   "cell_type": "code",
   "execution_count": 22,
   "metadata": {},
   "outputs": [
    {
     "data": {
      "text/plain": [
       "no     824\n",
       "yes    220\n",
       "Name: paid, dtype: int64"
      ]
     },
     "execution_count": 22,
     "metadata": {},
     "output_type": "execute_result"
    }
   ],
   "source": [
    "data['paid'].value_counts() "
   ]
  },
  {
   "cell_type": "code",
   "execution_count": 23,
   "metadata": {},
   "outputs": [
    {
     "data": {
      "text/plain": [
       "no     528\n",
       "yes    516\n",
       "Name: activities, dtype: int64"
      ]
     },
     "execution_count": 23,
     "metadata": {},
     "output_type": "execute_result"
    }
   ],
   "source": [
    "data['activities'].value_counts() "
   ]
  },
  {
   "cell_type": "code",
   "execution_count": 24,
   "metadata": {},
   "outputs": [
    {
     "data": {
      "text/plain": [
       "yes    835\n",
       "no     209\n",
       "Name: nursery, dtype: int64"
      ]
     },
     "execution_count": 24,
     "metadata": {},
     "output_type": "execute_result"
    }
   ],
   "source": [
    "data['nursery'].value_counts() "
   ]
  },
  {
   "cell_type": "code",
   "execution_count": 25,
   "metadata": {},
   "outputs": [
    {
     "data": {
      "text/plain": [
       "yes    955\n",
       "no      89\n",
       "Name: higher, dtype: int64"
      ]
     },
     "execution_count": 25,
     "metadata": {},
     "output_type": "execute_result"
    }
   ],
   "source": [
    "data['higher'].value_counts() "
   ]
  },
  {
   "cell_type": "code",
   "execution_count": 26,
   "metadata": {},
   "outputs": [
    {
     "data": {
      "text/plain": [
       "yes    827\n",
       "no     217\n",
       "Name: internet, dtype: int64"
      ]
     },
     "execution_count": 26,
     "metadata": {},
     "output_type": "execute_result"
    }
   ],
   "source": [
    "data['internet'].value_counts() "
   ]
  },
  {
   "cell_type": "code",
   "execution_count": 27,
   "metadata": {},
   "outputs": [
    {
     "data": {
      "text/plain": [
       "no     673\n",
       "yes    371\n",
       "Name: romantic, dtype: int64"
      ]
     },
     "execution_count": 27,
     "metadata": {},
     "output_type": "execute_result"
    }
   ],
   "source": [
    "data['romantic'].value_counts() "
   ]
  },
  {
   "cell_type": "code",
   "execution_count": 28,
   "metadata": {},
   "outputs": [
    {
     "data": {
      "text/plain": [
       "4    512\n",
       "5    286\n",
       "3    169\n",
       "2     47\n",
       "1     30\n",
       "Name: famrel, dtype: int64"
      ]
     },
     "execution_count": 28,
     "metadata": {},
     "output_type": "execute_result"
    }
   ],
   "source": [
    "data['famrel'].value_counts() "
   ]
  },
  {
   "cell_type": "code",
   "execution_count": 29,
   "metadata": {},
   "outputs": [
    {
     "data": {
      "text/plain": [
       "3    408\n",
       "4    293\n",
       "2    171\n",
       "5    108\n",
       "1     64\n",
       "Name: freetime, dtype: int64"
      ]
     },
     "execution_count": 29,
     "metadata": {},
     "output_type": "execute_result"
    }
   ],
   "source": [
    "data['freetime'].value_counts() "
   ]
  },
  {
   "cell_type": "code",
   "execution_count": 30,
   "metadata": {},
   "outputs": [
    {
     "data": {
      "text/plain": [
       "3    335\n",
       "2    248\n",
       "4    227\n",
       "5    163\n",
       "1     71\n",
       "Name: goout, dtype: int64"
      ]
     },
     "execution_count": 30,
     "metadata": {},
     "output_type": "execute_result"
    }
   ],
   "source": [
    "data['goout'].value_counts() "
   ]
  },
  {
   "cell_type": "code",
   "execution_count": 31,
   "metadata": {},
   "outputs": [
    {
     "data": {
      "text/plain": [
       "1    727\n",
       "2    196\n",
       "3     69\n",
       "5     26\n",
       "4     26\n",
       "Name: Dalc, dtype: int64"
      ]
     },
     "execution_count": 31,
     "metadata": {},
     "output_type": "execute_result"
    }
   ],
   "source": [
    "data['Dalc'].value_counts() "
   ]
  },
  {
   "cell_type": "code",
   "execution_count": 32,
   "metadata": {},
   "outputs": [
    {
     "data": {
      "text/plain": [
       "1    398\n",
       "2    235\n",
       "3    200\n",
       "4    138\n",
       "5     73\n",
       "Name: Walc, dtype: int64"
      ]
     },
     "execution_count": 32,
     "metadata": {},
     "output_type": "execute_result"
    }
   ],
   "source": [
    "data['Walc'].value_counts() "
   ]
  },
  {
   "cell_type": "code",
   "execution_count": 33,
   "metadata": {},
   "outputs": [
    {
     "data": {
      "text/plain": [
       "5    395\n",
       "3    215\n",
       "4    174\n",
       "1    137\n",
       "2    123\n",
       "Name: health, dtype: int64"
      ]
     },
     "execution_count": 33,
     "metadata": {},
     "output_type": "execute_result"
    }
   ],
   "source": [
    "data['health'].value_counts() "
   ]
  },
  {
   "cell_type": "code",
   "execution_count": 34,
   "metadata": {},
   "outputs": [
    {
     "data": {
      "text/plain": [
       "0     359\n",
       "2     175\n",
       "4     146\n",
       "6      80\n",
       "8      64\n",
       "10     38\n",
       "12     24\n",
       "14     20\n",
       "5      17\n",
       "16     17\n",
       "1      15\n",
       "3      15\n",
       "7      10\n",
       "9      10\n",
       "18      8\n",
       "11      8\n",
       "15      5\n",
       "22      5\n",
       "20      4\n",
       "13      4\n",
       "21      3\n",
       "24      2\n",
       "26      2\n",
       "30      2\n",
       "75      1\n",
       "56      1\n",
       "19      1\n",
       "23      1\n",
       "25      1\n",
       "28      1\n",
       "32      1\n",
       "38      1\n",
       "40      1\n",
       "54      1\n",
       "17      1\n",
       "Name: absences, dtype: int64"
      ]
     },
     "execution_count": 34,
     "metadata": {},
     "output_type": "execute_result"
    }
   ],
   "source": [
    "data['absences'].value_counts() "
   ]
  },
  {
   "cell_type": "code",
   "execution_count": 35,
   "metadata": {},
   "outputs": [
    {
     "data": {
      "text/plain": [
       "10    146\n",
       "11    130\n",
       "12    117\n",
       "13    105\n",
       "14    101\n",
       "9      96\n",
       "8      83\n",
       "7      70\n",
       "15     59\n",
       "16     44\n",
       "6      33\n",
       "17     24\n",
       "18     15\n",
       "5      12\n",
       "19      4\n",
       "4       3\n",
       "3       1\n",
       "0       1\n",
       "Name: G1, dtype: int64"
      ]
     },
     "execution_count": 35,
     "metadata": {},
     "output_type": "execute_result"
    }
   ],
   "source": [
    "data['G1'].value_counts() "
   ]
  },
  {
   "cell_type": "code",
   "execution_count": 36,
   "metadata": {},
   "outputs": [
    {
     "data": {
      "text/plain": [
       "11    138\n",
       "10    129\n",
       "12    127\n",
       "9     122\n",
       "13    117\n",
       "14     77\n",
       "15     72\n",
       "8      72\n",
       "16     38\n",
       "7      37\n",
       "18     26\n",
       "17     25\n",
       "6      21\n",
       "0      20\n",
       "5      18\n",
       "19      4\n",
       "4       1\n",
       "Name: G2, dtype: int64"
      ]
     },
     "execution_count": 36,
     "metadata": {},
     "output_type": "execute_result"
    }
   ],
   "source": [
    "data['G2'].value_counts() "
   ]
  },
  {
   "cell_type": "code",
   "execution_count": 37,
   "metadata": {},
   "outputs": [
    {
     "data": {
      "text/plain": [
       "10    153\n",
       "11    151\n",
       "13    113\n",
       "12    103\n",
       "14     90\n",
       "15     82\n",
       "8      67\n",
       "9      63\n",
       "0      53\n",
       "16     52\n",
       "17     35\n",
       "18     27\n",
       "7      19\n",
       "6      18\n",
       "5       8\n",
       "19      7\n",
       "4       1\n",
       "1       1\n",
       "20      1\n",
       "Name: G3, dtype: int64"
      ]
     },
     "execution_count": 37,
     "metadata": {},
     "output_type": "execute_result"
    }
   ],
   "source": [
    "data['G3'].value_counts() "
   ]
  },
  {
   "cell_type": "code",
   "execution_count": 38,
   "metadata": {},
   "outputs": [
    {
     "data": {
      "text/plain": [
       "school        0\n",
       "sex           0\n",
       "age           0\n",
       "address       0\n",
       "famsize       0\n",
       "Pstatus       0\n",
       "Medu          0\n",
       "Fedu          0\n",
       "Mjob          0\n",
       "Fjob          0\n",
       "reason        0\n",
       "guardian      0\n",
       "traveltime    0\n",
       "studytime     0\n",
       "failures      0\n",
       "schoolsup     0\n",
       "famsup        0\n",
       "paid          0\n",
       "activities    0\n",
       "nursery       0\n",
       "higher        0\n",
       "internet      0\n",
       "romantic      0\n",
       "famrel        0\n",
       "freetime      0\n",
       "goout         0\n",
       "Dalc          0\n",
       "Walc          0\n",
       "health        0\n",
       "absences      0\n",
       "G1            0\n",
       "G2            0\n",
       "G3            0\n",
       "dtype: int64"
      ]
     },
     "execution_count": 38,
     "metadata": {},
     "output_type": "execute_result"
    }
   ],
   "source": [
    "data.isnull().sum()"
   ]
  },
  {
   "cell_type": "markdown",
   "metadata": {},
   "source": [
    "#### No se encontraron valores atípicos o nulos en toda la tabla, por lo tanto, se puede proceder a seguir utilizando ambos datasets por aparte.\n",
    "Ya teniendo en cuenta esto, se procede a usar LabelEncoder en ambos datasets ya que hay datos de tipo object y los modelos funcionarán mejor si todos los datos son de tipo numérico."
   ]
  },
  {
   "cell_type": "code",
   "execution_count": 39,
   "metadata": {},
   "outputs": [
    {
     "data": {
      "text/html": [
       "<div>\n",
       "<style scoped>\n",
       "    .dataframe tbody tr th:only-of-type {\n",
       "        vertical-align: middle;\n",
       "    }\n",
       "\n",
       "    .dataframe tbody tr th {\n",
       "        vertical-align: top;\n",
       "    }\n",
       "\n",
       "    .dataframe thead th {\n",
       "        text-align: right;\n",
       "    }\n",
       "</style>\n",
       "<table border=\"1\" class=\"dataframe\">\n",
       "  <thead>\n",
       "    <tr style=\"text-align: right;\">\n",
       "      <th></th>\n",
       "      <th>school</th>\n",
       "      <th>sex</th>\n",
       "      <th>age</th>\n",
       "      <th>address</th>\n",
       "      <th>famsize</th>\n",
       "      <th>Pstatus</th>\n",
       "      <th>Medu</th>\n",
       "      <th>Fedu</th>\n",
       "      <th>Mjob</th>\n",
       "      <th>Fjob</th>\n",
       "      <th>...</th>\n",
       "      <th>famrel</th>\n",
       "      <th>freetime</th>\n",
       "      <th>goout</th>\n",
       "      <th>Dalc</th>\n",
       "      <th>Walc</th>\n",
       "      <th>health</th>\n",
       "      <th>absences</th>\n",
       "      <th>G1</th>\n",
       "      <th>G2</th>\n",
       "      <th>G3</th>\n",
       "    </tr>\n",
       "  </thead>\n",
       "  <tbody>\n",
       "    <tr>\n",
       "      <th>0</th>\n",
       "      <td>0</td>\n",
       "      <td>0</td>\n",
       "      <td>3</td>\n",
       "      <td>1</td>\n",
       "      <td>0</td>\n",
       "      <td>0</td>\n",
       "      <td>4</td>\n",
       "      <td>4</td>\n",
       "      <td>0</td>\n",
       "      <td>4</td>\n",
       "      <td>...</td>\n",
       "      <td>3</td>\n",
       "      <td>2</td>\n",
       "      <td>3</td>\n",
       "      <td>0</td>\n",
       "      <td>0</td>\n",
       "      <td>2</td>\n",
       "      <td>6</td>\n",
       "      <td>2</td>\n",
       "      <td>3</td>\n",
       "      <td>3</td>\n",
       "    </tr>\n",
       "    <tr>\n",
       "      <th>1</th>\n",
       "      <td>0</td>\n",
       "      <td>0</td>\n",
       "      <td>2</td>\n",
       "      <td>1</td>\n",
       "      <td>0</td>\n",
       "      <td>1</td>\n",
       "      <td>1</td>\n",
       "      <td>1</td>\n",
       "      <td>0</td>\n",
       "      <td>2</td>\n",
       "      <td>...</td>\n",
       "      <td>4</td>\n",
       "      <td>2</td>\n",
       "      <td>2</td>\n",
       "      <td>0</td>\n",
       "      <td>0</td>\n",
       "      <td>2</td>\n",
       "      <td>4</td>\n",
       "      <td>2</td>\n",
       "      <td>2</td>\n",
       "      <td>3</td>\n",
       "    </tr>\n",
       "    <tr>\n",
       "      <th>2</th>\n",
       "      <td>0</td>\n",
       "      <td>0</td>\n",
       "      <td>0</td>\n",
       "      <td>1</td>\n",
       "      <td>1</td>\n",
       "      <td>1</td>\n",
       "      <td>1</td>\n",
       "      <td>1</td>\n",
       "      <td>0</td>\n",
       "      <td>2</td>\n",
       "      <td>...</td>\n",
       "      <td>3</td>\n",
       "      <td>2</td>\n",
       "      <td>1</td>\n",
       "      <td>1</td>\n",
       "      <td>2</td>\n",
       "      <td>2</td>\n",
       "      <td>10</td>\n",
       "      <td>4</td>\n",
       "      <td>5</td>\n",
       "      <td>7</td>\n",
       "    </tr>\n",
       "    <tr>\n",
       "      <th>3</th>\n",
       "      <td>0</td>\n",
       "      <td>0</td>\n",
       "      <td>0</td>\n",
       "      <td>1</td>\n",
       "      <td>0</td>\n",
       "      <td>1</td>\n",
       "      <td>4</td>\n",
       "      <td>2</td>\n",
       "      <td>1</td>\n",
       "      <td>3</td>\n",
       "      <td>...</td>\n",
       "      <td>2</td>\n",
       "      <td>1</td>\n",
       "      <td>1</td>\n",
       "      <td>0</td>\n",
       "      <td>0</td>\n",
       "      <td>4</td>\n",
       "      <td>2</td>\n",
       "      <td>12</td>\n",
       "      <td>11</td>\n",
       "      <td>12</td>\n",
       "    </tr>\n",
       "    <tr>\n",
       "      <th>4</th>\n",
       "      <td>0</td>\n",
       "      <td>0</td>\n",
       "      <td>1</td>\n",
       "      <td>1</td>\n",
       "      <td>0</td>\n",
       "      <td>1</td>\n",
       "      <td>3</td>\n",
       "      <td>3</td>\n",
       "      <td>2</td>\n",
       "      <td>2</td>\n",
       "      <td>...</td>\n",
       "      <td>3</td>\n",
       "      <td>2</td>\n",
       "      <td>1</td>\n",
       "      <td>0</td>\n",
       "      <td>1</td>\n",
       "      <td>4</td>\n",
       "      <td>4</td>\n",
       "      <td>3</td>\n",
       "      <td>7</td>\n",
       "      <td>7</td>\n",
       "    </tr>\n",
       "    <tr>\n",
       "      <th>5</th>\n",
       "      <td>0</td>\n",
       "      <td>1</td>\n",
       "      <td>1</td>\n",
       "      <td>1</td>\n",
       "      <td>1</td>\n",
       "      <td>1</td>\n",
       "      <td>4</td>\n",
       "      <td>3</td>\n",
       "      <td>3</td>\n",
       "      <td>2</td>\n",
       "      <td>...</td>\n",
       "      <td>4</td>\n",
       "      <td>3</td>\n",
       "      <td>1</td>\n",
       "      <td>0</td>\n",
       "      <td>1</td>\n",
       "      <td>4</td>\n",
       "      <td>10</td>\n",
       "      <td>12</td>\n",
       "      <td>12</td>\n",
       "      <td>12</td>\n",
       "    </tr>\n",
       "    <tr>\n",
       "      <th>6</th>\n",
       "      <td>0</td>\n",
       "      <td>1</td>\n",
       "      <td>1</td>\n",
       "      <td>1</td>\n",
       "      <td>1</td>\n",
       "      <td>1</td>\n",
       "      <td>2</td>\n",
       "      <td>2</td>\n",
       "      <td>2</td>\n",
       "      <td>2</td>\n",
       "      <td>...</td>\n",
       "      <td>3</td>\n",
       "      <td>3</td>\n",
       "      <td>3</td>\n",
       "      <td>0</td>\n",
       "      <td>0</td>\n",
       "      <td>2</td>\n",
       "      <td>0</td>\n",
       "      <td>9</td>\n",
       "      <td>9</td>\n",
       "      <td>8</td>\n",
       "    </tr>\n",
       "    <tr>\n",
       "      <th>7</th>\n",
       "      <td>0</td>\n",
       "      <td>0</td>\n",
       "      <td>2</td>\n",
       "      <td>1</td>\n",
       "      <td>0</td>\n",
       "      <td>0</td>\n",
       "      <td>4</td>\n",
       "      <td>4</td>\n",
       "      <td>2</td>\n",
       "      <td>4</td>\n",
       "      <td>...</td>\n",
       "      <td>3</td>\n",
       "      <td>0</td>\n",
       "      <td>3</td>\n",
       "      <td>0</td>\n",
       "      <td>0</td>\n",
       "      <td>0</td>\n",
       "      <td>6</td>\n",
       "      <td>3</td>\n",
       "      <td>2</td>\n",
       "      <td>3</td>\n",
       "    </tr>\n",
       "    <tr>\n",
       "      <th>8</th>\n",
       "      <td>0</td>\n",
       "      <td>1</td>\n",
       "      <td>0</td>\n",
       "      <td>1</td>\n",
       "      <td>1</td>\n",
       "      <td>0</td>\n",
       "      <td>3</td>\n",
       "      <td>2</td>\n",
       "      <td>3</td>\n",
       "      <td>2</td>\n",
       "      <td>...</td>\n",
       "      <td>3</td>\n",
       "      <td>1</td>\n",
       "      <td>1</td>\n",
       "      <td>0</td>\n",
       "      <td>0</td>\n",
       "      <td>0</td>\n",
       "      <td>0</td>\n",
       "      <td>13</td>\n",
       "      <td>15</td>\n",
       "      <td>16</td>\n",
       "    </tr>\n",
       "    <tr>\n",
       "      <th>9</th>\n",
       "      <td>0</td>\n",
       "      <td>1</td>\n",
       "      <td>0</td>\n",
       "      <td>1</td>\n",
       "      <td>0</td>\n",
       "      <td>1</td>\n",
       "      <td>3</td>\n",
       "      <td>4</td>\n",
       "      <td>2</td>\n",
       "      <td>2</td>\n",
       "      <td>...</td>\n",
       "      <td>4</td>\n",
       "      <td>4</td>\n",
       "      <td>0</td>\n",
       "      <td>0</td>\n",
       "      <td>0</td>\n",
       "      <td>4</td>\n",
       "      <td>0</td>\n",
       "      <td>11</td>\n",
       "      <td>12</td>\n",
       "      <td>12</td>\n",
       "    </tr>\n",
       "  </tbody>\n",
       "</table>\n",
       "<p>10 rows × 33 columns</p>\n",
       "</div>"
      ],
      "text/plain": [
       "   school  sex  age  address  famsize  Pstatus  Medu  Fedu  Mjob  Fjob  ...  \\\n",
       "0       0    0    3        1        0        0     4     4     0     4  ...   \n",
       "1       0    0    2        1        0        1     1     1     0     2  ...   \n",
       "2       0    0    0        1        1        1     1     1     0     2  ...   \n",
       "3       0    0    0        1        0        1     4     2     1     3  ...   \n",
       "4       0    0    1        1        0        1     3     3     2     2  ...   \n",
       "5       0    1    1        1        1        1     4     3     3     2  ...   \n",
       "6       0    1    1        1        1        1     2     2     2     2  ...   \n",
       "7       0    0    2        1        0        0     4     4     2     4  ...   \n",
       "8       0    1    0        1        1        0     3     2     3     2  ...   \n",
       "9       0    1    0        1        0        1     3     4     2     2  ...   \n",
       "\n",
       "   famrel  freetime  goout  Dalc  Walc  health  absences  G1  G2  G3  \n",
       "0       3         2      3     0     0       2         6   2   3   3  \n",
       "1       4         2      2     0     0       2         4   2   2   3  \n",
       "2       3         2      1     1     2       2        10   4   5   7  \n",
       "3       2         1      1     0     0       4         2  12  11  12  \n",
       "4       3         2      1     0     1       4         4   3   7   7  \n",
       "5       4         3      1     0     1       4        10  12  12  12  \n",
       "6       3         3      3     0     0       2         0   9   9   8  \n",
       "7       3         0      3     0     0       0         6   3   2   3  \n",
       "8       3         1      1     0     0       0         0  13  15  16  \n",
       "9       4         4      0     0     0       4         0  11  12  12  \n",
       "\n",
       "[10 rows x 33 columns]"
      ]
     },
     "execution_count": 39,
     "metadata": {},
     "output_type": "execute_result"
    }
   ],
   "source": [
    "data_mat = data_mat.apply(preprocessing.LabelEncoder().fit_transform)\n",
    "data_mat.head(10)"
   ]
  },
  {
   "cell_type": "code",
   "execution_count": 40,
   "metadata": {},
   "outputs": [
    {
     "data": {
      "text/html": [
       "<div>\n",
       "<style scoped>\n",
       "    .dataframe tbody tr th:only-of-type {\n",
       "        vertical-align: middle;\n",
       "    }\n",
       "\n",
       "    .dataframe tbody tr th {\n",
       "        vertical-align: top;\n",
       "    }\n",
       "\n",
       "    .dataframe thead th {\n",
       "        text-align: right;\n",
       "    }\n",
       "</style>\n",
       "<table border=\"1\" class=\"dataframe\">\n",
       "  <thead>\n",
       "    <tr style=\"text-align: right;\">\n",
       "      <th></th>\n",
       "      <th>school</th>\n",
       "      <th>sex</th>\n",
       "      <th>age</th>\n",
       "      <th>address</th>\n",
       "      <th>famsize</th>\n",
       "      <th>Pstatus</th>\n",
       "      <th>Medu</th>\n",
       "      <th>Fedu</th>\n",
       "      <th>Mjob</th>\n",
       "      <th>Fjob</th>\n",
       "      <th>...</th>\n",
       "      <th>famrel</th>\n",
       "      <th>freetime</th>\n",
       "      <th>goout</th>\n",
       "      <th>Dalc</th>\n",
       "      <th>Walc</th>\n",
       "      <th>health</th>\n",
       "      <th>absences</th>\n",
       "      <th>G1</th>\n",
       "      <th>G2</th>\n",
       "      <th>G3</th>\n",
       "    </tr>\n",
       "  </thead>\n",
       "  <tbody>\n",
       "    <tr>\n",
       "      <th>0</th>\n",
       "      <td>0</td>\n",
       "      <td>0</td>\n",
       "      <td>3</td>\n",
       "      <td>1</td>\n",
       "      <td>0</td>\n",
       "      <td>0</td>\n",
       "      <td>4</td>\n",
       "      <td>4</td>\n",
       "      <td>0</td>\n",
       "      <td>4</td>\n",
       "      <td>...</td>\n",
       "      <td>3</td>\n",
       "      <td>2</td>\n",
       "      <td>3</td>\n",
       "      <td>0</td>\n",
       "      <td>0</td>\n",
       "      <td>2</td>\n",
       "      <td>4</td>\n",
       "      <td>0</td>\n",
       "      <td>7</td>\n",
       "      <td>8</td>\n",
       "    </tr>\n",
       "    <tr>\n",
       "      <th>1</th>\n",
       "      <td>0</td>\n",
       "      <td>0</td>\n",
       "      <td>2</td>\n",
       "      <td>1</td>\n",
       "      <td>0</td>\n",
       "      <td>1</td>\n",
       "      <td>1</td>\n",
       "      <td>1</td>\n",
       "      <td>0</td>\n",
       "      <td>2</td>\n",
       "      <td>...</td>\n",
       "      <td>4</td>\n",
       "      <td>2</td>\n",
       "      <td>2</td>\n",
       "      <td>0</td>\n",
       "      <td>0</td>\n",
       "      <td>2</td>\n",
       "      <td>2</td>\n",
       "      <td>6</td>\n",
       "      <td>7</td>\n",
       "      <td>8</td>\n",
       "    </tr>\n",
       "    <tr>\n",
       "      <th>2</th>\n",
       "      <td>0</td>\n",
       "      <td>0</td>\n",
       "      <td>0</td>\n",
       "      <td>1</td>\n",
       "      <td>1</td>\n",
       "      <td>1</td>\n",
       "      <td>1</td>\n",
       "      <td>1</td>\n",
       "      <td>0</td>\n",
       "      <td>2</td>\n",
       "      <td>...</td>\n",
       "      <td>3</td>\n",
       "      <td>2</td>\n",
       "      <td>1</td>\n",
       "      <td>1</td>\n",
       "      <td>2</td>\n",
       "      <td>2</td>\n",
       "      <td>6</td>\n",
       "      <td>9</td>\n",
       "      <td>9</td>\n",
       "      <td>9</td>\n",
       "    </tr>\n",
       "    <tr>\n",
       "      <th>3</th>\n",
       "      <td>0</td>\n",
       "      <td>0</td>\n",
       "      <td>0</td>\n",
       "      <td>1</td>\n",
       "      <td>0</td>\n",
       "      <td>1</td>\n",
       "      <td>4</td>\n",
       "      <td>2</td>\n",
       "      <td>1</td>\n",
       "      <td>3</td>\n",
       "      <td>...</td>\n",
       "      <td>2</td>\n",
       "      <td>1</td>\n",
       "      <td>1</td>\n",
       "      <td>0</td>\n",
       "      <td>0</td>\n",
       "      <td>4</td>\n",
       "      <td>0</td>\n",
       "      <td>11</td>\n",
       "      <td>10</td>\n",
       "      <td>11</td>\n",
       "    </tr>\n",
       "    <tr>\n",
       "      <th>4</th>\n",
       "      <td>0</td>\n",
       "      <td>0</td>\n",
       "      <td>1</td>\n",
       "      <td>1</td>\n",
       "      <td>0</td>\n",
       "      <td>1</td>\n",
       "      <td>3</td>\n",
       "      <td>3</td>\n",
       "      <td>2</td>\n",
       "      <td>2</td>\n",
       "      <td>...</td>\n",
       "      <td>3</td>\n",
       "      <td>2</td>\n",
       "      <td>1</td>\n",
       "      <td>0</td>\n",
       "      <td>1</td>\n",
       "      <td>4</td>\n",
       "      <td>0</td>\n",
       "      <td>8</td>\n",
       "      <td>9</td>\n",
       "      <td>10</td>\n",
       "    </tr>\n",
       "    <tr>\n",
       "      <th>5</th>\n",
       "      <td>0</td>\n",
       "      <td>1</td>\n",
       "      <td>1</td>\n",
       "      <td>1</td>\n",
       "      <td>1</td>\n",
       "      <td>1</td>\n",
       "      <td>4</td>\n",
       "      <td>3</td>\n",
       "      <td>3</td>\n",
       "      <td>2</td>\n",
       "      <td>...</td>\n",
       "      <td>4</td>\n",
       "      <td>3</td>\n",
       "      <td>1</td>\n",
       "      <td>0</td>\n",
       "      <td>1</td>\n",
       "      <td>4</td>\n",
       "      <td>6</td>\n",
       "      <td>9</td>\n",
       "      <td>8</td>\n",
       "      <td>10</td>\n",
       "    </tr>\n",
       "    <tr>\n",
       "      <th>6</th>\n",
       "      <td>0</td>\n",
       "      <td>1</td>\n",
       "      <td>1</td>\n",
       "      <td>1</td>\n",
       "      <td>1</td>\n",
       "      <td>1</td>\n",
       "      <td>2</td>\n",
       "      <td>2</td>\n",
       "      <td>2</td>\n",
       "      <td>2</td>\n",
       "      <td>...</td>\n",
       "      <td>3</td>\n",
       "      <td>3</td>\n",
       "      <td>3</td>\n",
       "      <td>0</td>\n",
       "      <td>0</td>\n",
       "      <td>2</td>\n",
       "      <td>0</td>\n",
       "      <td>10</td>\n",
       "      <td>8</td>\n",
       "      <td>10</td>\n",
       "    </tr>\n",
       "    <tr>\n",
       "      <th>7</th>\n",
       "      <td>0</td>\n",
       "      <td>0</td>\n",
       "      <td>2</td>\n",
       "      <td>1</td>\n",
       "      <td>0</td>\n",
       "      <td>0</td>\n",
       "      <td>4</td>\n",
       "      <td>4</td>\n",
       "      <td>2</td>\n",
       "      <td>4</td>\n",
       "      <td>...</td>\n",
       "      <td>3</td>\n",
       "      <td>0</td>\n",
       "      <td>3</td>\n",
       "      <td>0</td>\n",
       "      <td>0</td>\n",
       "      <td>0</td>\n",
       "      <td>2</td>\n",
       "      <td>7</td>\n",
       "      <td>9</td>\n",
       "      <td>10</td>\n",
       "    </tr>\n",
       "    <tr>\n",
       "      <th>8</th>\n",
       "      <td>0</td>\n",
       "      <td>1</td>\n",
       "      <td>0</td>\n",
       "      <td>1</td>\n",
       "      <td>1</td>\n",
       "      <td>0</td>\n",
       "      <td>3</td>\n",
       "      <td>2</td>\n",
       "      <td>3</td>\n",
       "      <td>2</td>\n",
       "      <td>...</td>\n",
       "      <td>3</td>\n",
       "      <td>1</td>\n",
       "      <td>1</td>\n",
       "      <td>0</td>\n",
       "      <td>0</td>\n",
       "      <td>0</td>\n",
       "      <td>0</td>\n",
       "      <td>12</td>\n",
       "      <td>12</td>\n",
       "      <td>14</td>\n",
       "    </tr>\n",
       "    <tr>\n",
       "      <th>9</th>\n",
       "      <td>0</td>\n",
       "      <td>1</td>\n",
       "      <td>0</td>\n",
       "      <td>1</td>\n",
       "      <td>0</td>\n",
       "      <td>1</td>\n",
       "      <td>3</td>\n",
       "      <td>4</td>\n",
       "      <td>2</td>\n",
       "      <td>2</td>\n",
       "      <td>...</td>\n",
       "      <td>4</td>\n",
       "      <td>4</td>\n",
       "      <td>0</td>\n",
       "      <td>0</td>\n",
       "      <td>0</td>\n",
       "      <td>4</td>\n",
       "      <td>0</td>\n",
       "      <td>9</td>\n",
       "      <td>8</td>\n",
       "      <td>10</td>\n",
       "    </tr>\n",
       "  </tbody>\n",
       "</table>\n",
       "<p>10 rows × 33 columns</p>\n",
       "</div>"
      ],
      "text/plain": [
       "   school  sex  age  address  famsize  Pstatus  Medu  Fedu  Mjob  Fjob  ...  \\\n",
       "0       0    0    3        1        0        0     4     4     0     4  ...   \n",
       "1       0    0    2        1        0        1     1     1     0     2  ...   \n",
       "2       0    0    0        1        1        1     1     1     0     2  ...   \n",
       "3       0    0    0        1        0        1     4     2     1     3  ...   \n",
       "4       0    0    1        1        0        1     3     3     2     2  ...   \n",
       "5       0    1    1        1        1        1     4     3     3     2  ...   \n",
       "6       0    1    1        1        1        1     2     2     2     2  ...   \n",
       "7       0    0    2        1        0        0     4     4     2     4  ...   \n",
       "8       0    1    0        1        1        0     3     2     3     2  ...   \n",
       "9       0    1    0        1        0        1     3     4     2     2  ...   \n",
       "\n",
       "   famrel  freetime  goout  Dalc  Walc  health  absences  G1  G2  G3  \n",
       "0       3         2      3     0     0       2         4   0   7   8  \n",
       "1       4         2      2     0     0       2         2   6   7   8  \n",
       "2       3         2      1     1     2       2         6   9   9   9  \n",
       "3       2         1      1     0     0       4         0  11  10  11  \n",
       "4       3         2      1     0     1       4         0   8   9  10  \n",
       "5       4         3      1     0     1       4         6   9   8  10  \n",
       "6       3         3      3     0     0       2         0  10   8  10  \n",
       "7       3         0      3     0     0       0         2   7   9  10  \n",
       "8       3         1      1     0     0       0         0  12  12  14  \n",
       "9       4         4      0     0     0       4         0   9   8  10  \n",
       "\n",
       "[10 rows x 33 columns]"
      ]
     },
     "execution_count": 40,
     "metadata": {},
     "output_type": "execute_result"
    }
   ],
   "source": [
    "data_por = data_por.apply(preprocessing.LabelEncoder().fit_transform)\n",
    "data_por.head(10)"
   ]
  },
  {
   "cell_type": "code",
   "execution_count": 41,
   "metadata": {},
   "outputs": [
    {
     "name": "stdout",
     "output_type": "stream",
     "text": [
      "(395, 32) (395,)\n"
     ]
    }
   ],
   "source": [
    "X_mat = data_mat.drop('G3', axis=1)\n",
    "y_mat = data_mat[\"G3\"]\n",
    "print(X_mat.shape, y_mat.shape)"
   ]
  },
  {
   "cell_type": "code",
   "execution_count": 42,
   "metadata": {},
   "outputs": [
    {
     "name": "stdout",
     "output_type": "stream",
     "text": [
      "(649, 32) (649,)\n"
     ]
    }
   ],
   "source": [
    "X_por = data_por.drop('G3', axis=1)\n",
    "y_por = data_por[\"G3\"]\n",
    "print(X_por.shape, y_por.shape)"
   ]
  },
  {
   "cell_type": "markdown",
   "metadata": {},
   "source": [
    "## Entrenar modelos de regresión"
   ]
  },
  {
   "cell_type": "code",
   "execution_count": 43,
   "metadata": {},
   "outputs": [],
   "source": [
    "from sklearn.pipeline import make_pipeline\n",
    "from sklearn.preprocessing import StandardScaler\n",
    "from sklearn.svm import SVC"
   ]
  },
  {
   "cell_type": "code",
   "execution_count": 44,
   "metadata": {},
   "outputs": [],
   "source": [
    "from sklearn.model_selection import GridSearchCV\n",
    "from sklearn.neighbors import KernelDensity\n",
    "from sklearn.metrics import roc_auc_score\n",
    "from sklearn.metrics import make_scorer\n",
    "from sklearn.metrics import accuracy_score\n",
    "from sklearn.metrics import recall_score\n",
    "from sklearn.model_selection import KFold"
   ]
  },
  {
   "cell_type": "code",
   "execution_count": 45,
   "metadata": {},
   "outputs": [],
   "source": [
    "skf = KFold(n_splits=10)"
   ]
  },
  {
   "cell_type": "code",
   "execution_count": 74,
   "metadata": {},
   "outputs": [],
   "source": [
    "def make_table(data):\n",
    "    df = pd.DataFrame()\n",
    "    df = df.assign(mean_fit_time = data[\"mean_fit_time\"])\n",
    "\n",
    "    df = df.assign(params = data[\"params\"])\n",
    "\n",
    "    df = df.assign(mean_test_mean_squared_error= data[\"mean_test_mean_squared_error\"])\n",
    "    df = df.assign(rank_test_mean_squared_error = data[\"rank_test_mean_squared_error\"])\n",
    "    df = df.assign(mean_train_mean_squared_error = data[\"mean_train_mean_squared_error\"])\n",
    "\n",
    "    return df"
   ]
  },
  {
   "cell_type": "code",
   "execution_count": 112,
   "metadata": {},
   "outputs": [
    {
     "name": "stdout",
     "output_type": "stream",
     "text": [
      "Fitting 10 folds for each of 8 candidates, totalling 80 fits\n"
     ]
    },
    {
     "name": "stderr",
     "output_type": "stream",
     "text": [
      "[Parallel(n_jobs=-1)]: Using backend LokyBackend with 4 concurrent workers.\n",
      "[Parallel(n_jobs=-1)]: Done   5 tasks      | elapsed:    8.2s\n",
      "[Parallel(n_jobs=-1)]: Done  10 tasks      | elapsed:    8.5s\n",
      "[Parallel(n_jobs=-1)]: Done  17 tasks      | elapsed:    9.2s\n",
      "[Parallel(n_jobs=-1)]: Done  24 tasks      | elapsed:   10.0s\n",
      "[Parallel(n_jobs=-1)]: Done  33 tasks      | elapsed:   11.0s\n",
      "[Parallel(n_jobs=-1)]: Done  42 tasks      | elapsed:   30.7s\n",
      "[Parallel(n_jobs=-1)]: Done  53 tasks      | elapsed:  1.0min\n",
      "[Parallel(n_jobs=-1)]: Done  64 tasks      | elapsed:  1.1min\n",
      "[Parallel(n_jobs=-1)]: Done  80 out of  80 | elapsed:  1.3min finished\n",
      "C:\\Users\\Karol\\Anaconda3\\lib\\site-packages\\sklearn\\model_selection\\_search.py:813: DeprecationWarning: The default of the `iid` parameter will change from True to False in version 0.22 and will be removed in 0.24. This will change numeric results when test-set sizes are unequal.\n",
      "  DeprecationWarning)\n",
      "C:\\Users\\Karol\\Anaconda3\\lib\\site-packages\\sklearn\\linear_model\\sag.py:337: ConvergenceWarning: The max_iter was reached which means the coef_ did not converge\n",
      "  \"the coef_ did not converge\", ConvergenceWarning)\n"
     ]
    },
    {
     "data": {
      "text/plain": [
       "GridSearchCV(cv=KFold(n_splits=10, random_state=None, shuffle=False),\n",
       "             error_score='raise-deprecating',\n",
       "             estimator=Pipeline(memory=None,\n",
       "                                steps=[('standardscaler',\n",
       "                                        StandardScaler(copy=True,\n",
       "                                                       with_mean=True,\n",
       "                                                       with_std=True)),\n",
       "                                       ('logisticregression',\n",
       "                                        LogisticRegression(C=1.0,\n",
       "                                                           class_weight=None,\n",
       "                                                           dual=False,\n",
       "                                                           fit_intercept=True,\n",
       "                                                           intercept_scaling=1,\n",
       "                                                           l1_ratio=None,\n",
       "                                                           max_iter=1...\n",
       "                                                           solver='warn',\n",
       "                                                           tol=0.0001,\n",
       "                                                           verbose=0,\n",
       "                                                           warm_start=False))],\n",
       "                                verbose=False),\n",
       "             iid='warn', n_jobs=-1,\n",
       "             param_grid={'logisticregression__penalty': ('l2', 'none'),\n",
       "                         'logisticregression__solver': ('newton-cg', 'sag',\n",
       "                                                        'saga', 'lbfgs')},\n",
       "             pre_dispatch='2*n_jobs', refit='mean_squared_error',\n",
       "             return_train_score=True,\n",
       "             scoring={'mean_squared_error': 'neg_mean_squared_error'},\n",
       "             verbose=10)"
      ]
     },
     "execution_count": 112,
     "metadata": {},
     "output_type": "execute_result"
    }
   ],
   "source": [
    "from sklearn.linear_model import LogisticRegression\n",
    "\n",
    "scoring = {'mean_squared_error': 'neg_mean_squared_error'} \n",
    "parameters = {'logisticregression__solver':('newton-cg', 'sag','saga', 'lbfgs'),\n",
    "               'logisticregression__penalty':('l2','none')}\n",
    "\n",
    "pp = make_pipeline(StandardScaler(), LogisticRegression(multi_class=\"multinomial\", max_iter=150))\n",
    "\n",
    "gs = GridSearchCV(pp, parameters, cv=skf, scoring=scoring, refit='mean_squared_error', return_train_score=True, n_jobs=-1, verbose=10)\n",
    "\n",
    "gs.fit(X_mat, y_mat)"
   ]
  },
  {
   "cell_type": "code",
   "execution_count": 113,
   "metadata": {},
   "outputs": [
    {
     "name": "stdout",
     "output_type": "stream",
     "text": [
      "El conjunto de hiperparámetros que tuvo mejor resultado:  Pipeline(memory=None,\n",
      "         steps=[('standardscaler',\n",
      "                 StandardScaler(copy=True, with_mean=True, with_std=True)),\n",
      "                ('logisticregression',\n",
      "                 LogisticRegression(C=1.0, class_weight=None, dual=False,\n",
      "                                    fit_intercept=True, intercept_scaling=1,\n",
      "                                    l1_ratio=None, max_iter=150,\n",
      "                                    multi_class='multinomial', n_jobs=None,\n",
      "                                    penalty='none', random_state=None,\n",
      "                                    solver='sag', tol=0.0001, verbose=0,\n",
      "                                    warm_start=False))],\n",
      "         verbose=False)\n",
      "El index del mejor conjunto de hiperparámetros:  5\n"
     ]
    },
    {
     "data": {
      "text/html": [
       "<div>\n",
       "<style scoped>\n",
       "    .dataframe tbody tr th:only-of-type {\n",
       "        vertical-align: middle;\n",
       "    }\n",
       "\n",
       "    .dataframe tbody tr th {\n",
       "        vertical-align: top;\n",
       "    }\n",
       "\n",
       "    .dataframe thead th {\n",
       "        text-align: right;\n",
       "    }\n",
       "</style>\n",
       "<table border=\"1\" class=\"dataframe\">\n",
       "  <thead>\n",
       "    <tr style=\"text-align: right;\">\n",
       "      <th></th>\n",
       "      <th>mean_fit_time</th>\n",
       "      <th>params</th>\n",
       "      <th>mean_test_mean_squared_error</th>\n",
       "      <th>rank_test_mean_squared_error</th>\n",
       "      <th>mean_train_mean_squared_error</th>\n",
       "    </tr>\n",
       "  </thead>\n",
       "  <tbody>\n",
       "    <tr>\n",
       "      <th>0</th>\n",
       "      <td>0.257496</td>\n",
       "      <td>{'logisticregression__penalty': 'l2', 'logisti...</td>\n",
       "      <td>-5.797468</td>\n",
       "      <td>4</td>\n",
       "      <td>-1.172326</td>\n",
       "    </tr>\n",
       "    <tr>\n",
       "      <th>1</th>\n",
       "      <td>0.348799</td>\n",
       "      <td>{'logisticregression__penalty': 'l2', 'logisti...</td>\n",
       "      <td>-5.797468</td>\n",
       "      <td>4</td>\n",
       "      <td>-1.172607</td>\n",
       "    </tr>\n",
       "    <tr>\n",
       "      <th>2</th>\n",
       "      <td>0.583903</td>\n",
       "      <td>{'logisticregression__penalty': 'l2', 'logisti...</td>\n",
       "      <td>-5.939241</td>\n",
       "      <td>7</td>\n",
       "      <td>-1.219592</td>\n",
       "    </tr>\n",
       "    <tr>\n",
       "      <th>3</th>\n",
       "      <td>0.201010</td>\n",
       "      <td>{'logisticregression__penalty': 'l2', 'logisti...</td>\n",
       "      <td>-5.797468</td>\n",
       "      <td>4</td>\n",
       "      <td>-1.172326</td>\n",
       "    </tr>\n",
       "    <tr>\n",
       "      <th>4</th>\n",
       "      <td>21.790826</td>\n",
       "      <td>{'logisticregression__penalty': 'none', 'logis...</td>\n",
       "      <td>-8.827848</td>\n",
       "      <td>8</td>\n",
       "      <td>-0.019418</td>\n",
       "    </tr>\n",
       "    <tr>\n",
       "      <th>5</th>\n",
       "      <td>0.770993</td>\n",
       "      <td>{'logisticregression__penalty': 'none', 'logis...</td>\n",
       "      <td>-5.159494</td>\n",
       "      <td>1</td>\n",
       "      <td>-0.453433</td>\n",
       "    </tr>\n",
       "    <tr>\n",
       "      <th>6</th>\n",
       "      <td>0.995498</td>\n",
       "      <td>{'logisticregression__penalty': 'none', 'logis...</td>\n",
       "      <td>-5.739241</td>\n",
       "      <td>3</td>\n",
       "      <td>-0.626149</td>\n",
       "    </tr>\n",
       "    <tr>\n",
       "      <th>7</th>\n",
       "      <td>0.449894</td>\n",
       "      <td>{'logisticregression__penalty': 'none', 'logis...</td>\n",
       "      <td>-5.643038</td>\n",
       "      <td>2</td>\n",
       "      <td>-0.040795</td>\n",
       "    </tr>\n",
       "  </tbody>\n",
       "</table>\n",
       "</div>"
      ],
      "text/plain": [
       "   mean_fit_time                                             params  \\\n",
       "0       0.257496  {'logisticregression__penalty': 'l2', 'logisti...   \n",
       "1       0.348799  {'logisticregression__penalty': 'l2', 'logisti...   \n",
       "2       0.583903  {'logisticregression__penalty': 'l2', 'logisti...   \n",
       "3       0.201010  {'logisticregression__penalty': 'l2', 'logisti...   \n",
       "4      21.790826  {'logisticregression__penalty': 'none', 'logis...   \n",
       "5       0.770993  {'logisticregression__penalty': 'none', 'logis...   \n",
       "6       0.995498  {'logisticregression__penalty': 'none', 'logis...   \n",
       "7       0.449894  {'logisticregression__penalty': 'none', 'logis...   \n",
       "\n",
       "   mean_test_mean_squared_error  rank_test_mean_squared_error  \\\n",
       "0                     -5.797468                             4   \n",
       "1                     -5.797468                             4   \n",
       "2                     -5.939241                             7   \n",
       "3                     -5.797468                             4   \n",
       "4                     -8.827848                             8   \n",
       "5                     -5.159494                             1   \n",
       "6                     -5.739241                             3   \n",
       "7                     -5.643038                             2   \n",
       "\n",
       "   mean_train_mean_squared_error  \n",
       "0                      -1.172326  \n",
       "1                      -1.172607  \n",
       "2                      -1.219592  \n",
       "3                      -1.172326  \n",
       "4                      -0.019418  \n",
       "5                      -0.453433  \n",
       "6                      -0.626149  \n",
       "7                      -0.040795  "
      ]
     },
     "execution_count": 113,
     "metadata": {},
     "output_type": "execute_result"
    }
   ],
   "source": [
    "results_lg = gs\n",
    "lg = pd.DataFrame(results_lg.cv_results_)\n",
    "print(\"El conjunto de hiperparámetros que tuvo mejor resultado: \", results_lg.best_estimator_)\n",
    "print(\"El index del mejor conjunto de hiperparámetros: \", results_lg.best_index_)\n",
    "table_lg = make_table(lg).head(10)\n",
    "table_lg"
   ]
  },
  {
   "cell_type": "code",
   "execution_count": null,
   "metadata": {},
   "outputs": [],
   "source": []
  },
  {
   "cell_type": "code",
   "execution_count": null,
   "metadata": {},
   "outputs": [],
   "source": []
  },
  {
   "cell_type": "code",
   "execution_count": 83,
   "metadata": {},
   "outputs": [
    {
     "name": "stdout",
     "output_type": "stream",
     "text": [
      "Fitting 10 folds for each of 24 candidates, totalling 240 fits\n"
     ]
    },
    {
     "name": "stderr",
     "output_type": "stream",
     "text": [
      "[Parallel(n_jobs=-1)]: Using backend LokyBackend with 4 concurrent workers.\n",
      "[Parallel(n_jobs=-1)]: Done   5 tasks      | elapsed:    6.9s\n",
      "[Parallel(n_jobs=-1)]: Done  10 tasks      | elapsed:    7.0s\n",
      "[Parallel(n_jobs=-1)]: Done  17 tasks      | elapsed:    7.5s\n",
      "[Parallel(n_jobs=-1)]: Done  24 tasks      | elapsed:    8.4s\n",
      "[Parallel(n_jobs=-1)]: Done  33 tasks      | elapsed:   10.4s\n",
      "[Parallel(n_jobs=-1)]: Done  42 tasks      | elapsed:   12.1s\n",
      "[Parallel(n_jobs=-1)]: Done  53 tasks      | elapsed:   12.7s\n",
      "[Parallel(n_jobs=-1)]: Done  64 tasks      | elapsed:   13.8s\n",
      "[Parallel(n_jobs=-1)]: Done  77 tasks      | elapsed:   16.3s\n",
      "[Parallel(n_jobs=-1)]: Done  90 tasks      | elapsed:   17.1s\n",
      "[Parallel(n_jobs=-1)]: Done 105 tasks      | elapsed:   18.8s\n",
      "[Parallel(n_jobs=-1)]: Done 120 tasks      | elapsed:   21.3s\n",
      "[Parallel(n_jobs=-1)]: Done 137 tasks      | elapsed:   25.0s\n",
      "[Parallel(n_jobs=-1)]: Done 154 tasks      | elapsed:   43.7s\n",
      "[Parallel(n_jobs=-1)]: Done 173 tasks      | elapsed:   52.6s\n",
      "[Parallel(n_jobs=-1)]: Done 192 tasks      | elapsed:   57.9s\n",
      "[Parallel(n_jobs=-1)]: Done 213 tasks      | elapsed:  1.0min\n",
      "[Parallel(n_jobs=-1)]: Done 240 out of 240 | elapsed:  1.2min finished\n",
      "C:\\Users\\Karol\\Anaconda3\\lib\\site-packages\\sklearn\\model_selection\\_search.py:813: DeprecationWarning: The default of the `iid` parameter will change from True to False in version 0.22 and will be removed in 0.24. This will change numeric results when test-set sizes are unequal.\n",
      "  DeprecationWarning)\n"
     ]
    },
    {
     "data": {
      "text/plain": [
       "GridSearchCV(cv=KFold(n_splits=10, random_state=None, shuffle=False),\n",
       "             error_score='raise-deprecating',\n",
       "             estimator=Pipeline(memory=None,\n",
       "                                steps=[('standardscaler',\n",
       "                                        StandardScaler(copy=True,\n",
       "                                                       with_mean=True,\n",
       "                                                       with_std=True)),\n",
       "                                       ('randomforestregressor',\n",
       "                                        RandomForestRegressor(bootstrap=True,\n",
       "                                                              criterion='mse',\n",
       "                                                              max_depth=None,\n",
       "                                                              max_features='auto',\n",
       "                                                              max_leaf_nodes=None,\n",
       "                                                              min_im...\n",
       "                                verbose=False),\n",
       "             iid='warn', n_jobs=-1,\n",
       "             param_grid={'randomforestregressor__criterion': ('mse', 'mae'),\n",
       "                         'randomforestregressor__max_features': ('auto', 'sqrt',\n",
       "                                                                 'log2'),\n",
       "                         'randomforestregressor__n_estimators': [10, 50, 150,\n",
       "                                                                 200]},\n",
       "             pre_dispatch='2*n_jobs', refit='mean_squared_error',\n",
       "             return_train_score=True,\n",
       "             scoring={'mean_squared_error': 'neg_mean_squared_error'},\n",
       "             verbose=10)"
      ]
     },
     "execution_count": 83,
     "metadata": {},
     "output_type": "execute_result"
    }
   ],
   "source": [
    "from sklearn.ensemble import RandomForestRegressor\n",
    "\n",
    "scoring = {'mean_squared_error': 'neg_mean_squared_error'} \n",
    "parameters = {'randomforestregressor__n_estimators': [10, 50, 150, 200],\n",
    "              'randomforestregressor__criterion':('mse','mae'),\n",
    "              'randomforestregressor__max_features':('auto', 'sqrt', 'log2')}\n",
    "\n",
    "pp = make_pipeline(StandardScaler(), RandomForestRegressor())\n",
    "\n",
    "gs = GridSearchCV(pp, parameters, cv=skf, scoring=scoring, refit='mean_squared_error', return_train_score=True, n_jobs=-1, verbose=10)\n",
    "\n",
    "gs.fit(X_mat, y_mat)"
   ]
  },
  {
   "cell_type": "code",
   "execution_count": 98,
   "metadata": {},
   "outputs": [
    {
     "name": "stdout",
     "output_type": "stream",
     "text": [
      "El conjunto de hiperparámetros que tuvo mejor resultado:  Pipeline(memory=None,\n",
      "         steps=[('standardscaler',\n",
      "                 StandardScaler(copy=True, with_mean=True, with_std=True)),\n",
      "                ('randomforestregressor',\n",
      "                 RandomForestRegressor(bootstrap=True, criterion='mse',\n",
      "                                       max_depth=None, max_features='auto',\n",
      "                                       max_leaf_nodes=None,\n",
      "                                       min_impurity_decrease=0.0,\n",
      "                                       min_impurity_split=None,\n",
      "                                       min_samples_leaf=1, min_samples_split=2,\n",
      "                                       min_weight_fraction_leaf=0.0,\n",
      "                                       n_estimators=200, n_jobs=None,\n",
      "                                       oob_score=False, random_state=None,\n",
      "                                       verbose=0, warm_start=False))],\n",
      "         verbose=False)\n",
      "El index del mejor conjunto de hiperparámetros:  3\n"
     ]
    },
    {
     "data": {
      "text/html": [
       "<div>\n",
       "<style scoped>\n",
       "    .dataframe tbody tr th:only-of-type {\n",
       "        vertical-align: middle;\n",
       "    }\n",
       "\n",
       "    .dataframe tbody tr th {\n",
       "        vertical-align: top;\n",
       "    }\n",
       "\n",
       "    .dataframe thead th {\n",
       "        text-align: right;\n",
       "    }\n",
       "</style>\n",
       "<table border=\"1\" class=\"dataframe\">\n",
       "  <thead>\n",
       "    <tr style=\"text-align: right;\">\n",
       "      <th></th>\n",
       "      <th>mean_fit_time</th>\n",
       "      <th>params</th>\n",
       "      <th>mean_test_mean_squared_error</th>\n",
       "      <th>rank_test_mean_squared_error</th>\n",
       "      <th>mean_train_mean_squared_error</th>\n",
       "    </tr>\n",
       "  </thead>\n",
       "  <tbody>\n",
       "    <tr>\n",
       "      <th>0</th>\n",
       "      <td>0.069991</td>\n",
       "      <td>{'randomforestregressor__criterion': 'mse', 'r...</td>\n",
       "      <td>-1.803671</td>\n",
       "      <td>5</td>\n",
       "      <td>-0.307172</td>\n",
       "    </tr>\n",
       "    <tr>\n",
       "      <th>1</th>\n",
       "      <td>0.219483</td>\n",
       "      <td>{'randomforestregressor__criterion': 'mse', 'r...</td>\n",
       "      <td>-1.672644</td>\n",
       "      <td>3</td>\n",
       "      <td>-0.210119</td>\n",
       "    </tr>\n",
       "    <tr>\n",
       "      <th>2</th>\n",
       "      <td>0.584834</td>\n",
       "      <td>{'randomforestregressor__criterion': 'mse', 'r...</td>\n",
       "      <td>-1.622687</td>\n",
       "      <td>2</td>\n",
       "      <td>-0.206668</td>\n",
       "    </tr>\n",
       "    <tr>\n",
       "      <th>3</th>\n",
       "      <td>0.993656</td>\n",
       "      <td>{'randomforestregressor__criterion': 'mse', 'r...</td>\n",
       "      <td>-1.603938</td>\n",
       "      <td>1</td>\n",
       "      <td>-0.200926</td>\n",
       "    </tr>\n",
       "    <tr>\n",
       "      <th>4</th>\n",
       "      <td>0.047498</td>\n",
       "      <td>{'randomforestregressor__criterion': 'mse', 'r...</td>\n",
       "      <td>-3.696987</td>\n",
       "      <td>22</td>\n",
       "      <td>-0.658872</td>\n",
       "    </tr>\n",
       "    <tr>\n",
       "      <th>5</th>\n",
       "      <td>0.187899</td>\n",
       "      <td>{'randomforestregressor__criterion': 'mse', 'r...</td>\n",
       "      <td>-3.123149</td>\n",
       "      <td>19</td>\n",
       "      <td>-0.418053</td>\n",
       "    </tr>\n",
       "    <tr>\n",
       "      <th>6</th>\n",
       "      <td>0.450005</td>\n",
       "      <td>{'randomforestregressor__criterion': 'mse', 'r...</td>\n",
       "      <td>-3.003816</td>\n",
       "      <td>9</td>\n",
       "      <td>-0.385295</td>\n",
       "    </tr>\n",
       "    <tr>\n",
       "      <th>7</th>\n",
       "      <td>0.662196</td>\n",
       "      <td>{'randomforestregressor__criterion': 'mse', 'r...</td>\n",
       "      <td>-3.016599</td>\n",
       "      <td>11</td>\n",
       "      <td>-0.385076</td>\n",
       "    </tr>\n",
       "    <tr>\n",
       "      <th>8</th>\n",
       "      <td>0.079592</td>\n",
       "      <td>{'randomforestregressor__criterion': 'mse', 'r...</td>\n",
       "      <td>-3.788152</td>\n",
       "      <td>23</td>\n",
       "      <td>-0.658967</td>\n",
       "    </tr>\n",
       "    <tr>\n",
       "      <th>9</th>\n",
       "      <td>0.242499</td>\n",
       "      <td>{'randomforestregressor__criterion': 'mse', 'r...</td>\n",
       "      <td>-3.072002</td>\n",
       "      <td>16</td>\n",
       "      <td>-0.424801</td>\n",
       "    </tr>\n",
       "  </tbody>\n",
       "</table>\n",
       "</div>"
      ],
      "text/plain": [
       "   mean_fit_time                                             params  \\\n",
       "0       0.069991  {'randomforestregressor__criterion': 'mse', 'r...   \n",
       "1       0.219483  {'randomforestregressor__criterion': 'mse', 'r...   \n",
       "2       0.584834  {'randomforestregressor__criterion': 'mse', 'r...   \n",
       "3       0.993656  {'randomforestregressor__criterion': 'mse', 'r...   \n",
       "4       0.047498  {'randomforestregressor__criterion': 'mse', 'r...   \n",
       "5       0.187899  {'randomforestregressor__criterion': 'mse', 'r...   \n",
       "6       0.450005  {'randomforestregressor__criterion': 'mse', 'r...   \n",
       "7       0.662196  {'randomforestregressor__criterion': 'mse', 'r...   \n",
       "8       0.079592  {'randomforestregressor__criterion': 'mse', 'r...   \n",
       "9       0.242499  {'randomforestregressor__criterion': 'mse', 'r...   \n",
       "\n",
       "   mean_test_mean_squared_error  rank_test_mean_squared_error  \\\n",
       "0                     -1.803671                             5   \n",
       "1                     -1.672644                             3   \n",
       "2                     -1.622687                             2   \n",
       "3                     -1.603938                             1   \n",
       "4                     -3.696987                            22   \n",
       "5                     -3.123149                            19   \n",
       "6                     -3.003816                             9   \n",
       "7                     -3.016599                            11   \n",
       "8                     -3.788152                            23   \n",
       "9                     -3.072002                            16   \n",
       "\n",
       "   mean_train_mean_squared_error  \n",
       "0                      -0.307172  \n",
       "1                      -0.210119  \n",
       "2                      -0.206668  \n",
       "3                      -0.200926  \n",
       "4                      -0.658872  \n",
       "5                      -0.418053  \n",
       "6                      -0.385295  \n",
       "7                      -0.385076  \n",
       "8                      -0.658967  \n",
       "9                      -0.424801  "
      ]
     },
     "execution_count": 98,
     "metadata": {},
     "output_type": "execute_result"
    }
   ],
   "source": [
    "results_rf = gs\n",
    "rf = pd.DataFrame(results_rf.cv_results_)\n",
    "print(\"El conjunto de hiperparámetros que tuvo mejor resultado: \", results_rf.best_estimator_)\n",
    "print(\"El index del mejor conjunto de hiperparámetros: \", results_rf.best_index_)\n",
    "table_rf = make_table(rf).head(10)\n",
    "table_rf"
   ]
  },
  {
   "cell_type": "code",
   "execution_count": null,
   "metadata": {},
   "outputs": [],
   "source": []
  },
  {
   "cell_type": "code",
   "execution_count": null,
   "metadata": {},
   "outputs": [],
   "source": []
  },
  {
   "cell_type": "code",
   "execution_count": 92,
   "metadata": {},
   "outputs": [
    {
     "name": "stdout",
     "output_type": "stream",
     "text": [
      "Fitting 10 folds for each of 72 candidates, totalling 720 fits\n"
     ]
    },
    {
     "name": "stderr",
     "output_type": "stream",
     "text": [
      "[Parallel(n_jobs=-1)]: Using backend LokyBackend with 4 concurrent workers.\n",
      "[Parallel(n_jobs=-1)]: Done   5 tasks      | elapsed:    7.2s\n",
      "[Parallel(n_jobs=-1)]: Done  10 tasks      | elapsed:    7.5s\n",
      "[Parallel(n_jobs=-1)]: Done  17 tasks      | elapsed:    9.0s\n",
      "[Parallel(n_jobs=-1)]: Done  24 tasks      | elapsed:   10.4s\n",
      "[Parallel(n_jobs=-1)]: Done  33 tasks      | elapsed:   11.4s\n",
      "[Parallel(n_jobs=-1)]: Done  42 tasks      | elapsed:   12.3s\n",
      "[Parallel(n_jobs=-1)]: Done  53 tasks      | elapsed:   14.3s\n",
      "[Parallel(n_jobs=-1)]: Done  64 tasks      | elapsed:   15.5s\n",
      "[Parallel(n_jobs=-1)]: Done  77 tasks      | elapsed:   17.1s\n",
      "[Parallel(n_jobs=-1)]: Done  90 tasks      | elapsed:   20.4s\n",
      "[Parallel(n_jobs=-1)]: Done 105 tasks      | elapsed:   23.8s\n",
      "[Parallel(n_jobs=-1)]: Done 120 tasks      | elapsed:   27.1s\n",
      "[Parallel(n_jobs=-1)]: Done 137 tasks      | elapsed:   30.1s\n",
      "[Parallel(n_jobs=-1)]: Done 154 tasks      | elapsed:   33.9s\n",
      "[Parallel(n_jobs=-1)]: Done 173 tasks      | elapsed:   38.7s\n",
      "[Parallel(n_jobs=-1)]: Done 192 tasks      | elapsed:   42.4s\n",
      "[Parallel(n_jobs=-1)]: Done 213 tasks      | elapsed:   49.9s\n",
      "[Parallel(n_jobs=-1)]: Done 234 tasks      | elapsed:   56.3s\n",
      "[Parallel(n_jobs=-1)]: Done 257 tasks      | elapsed:  1.1min\n",
      "[Parallel(n_jobs=-1)]: Done 280 tasks      | elapsed:  1.2min\n",
      "[Parallel(n_jobs=-1)]: Done 305 tasks      | elapsed:  1.4min\n",
      "[Parallel(n_jobs=-1)]: Done 330 tasks      | elapsed:  1.6min\n",
      "[Parallel(n_jobs=-1)]: Done 357 tasks      | elapsed:  1.8min\n",
      "[Parallel(n_jobs=-1)]: Done 384 tasks      | elapsed:  1.9min\n",
      "[Parallel(n_jobs=-1)]: Done 413 tasks      | elapsed:  2.0min\n",
      "[Parallel(n_jobs=-1)]: Done 442 tasks      | elapsed:  2.1min\n",
      "[Parallel(n_jobs=-1)]: Done 473 tasks      | elapsed:  2.2min\n",
      "[Parallel(n_jobs=-1)]: Done 504 tasks      | elapsed:  2.3min\n",
      "[Parallel(n_jobs=-1)]: Done 537 tasks      | elapsed:  2.5min\n",
      "[Parallel(n_jobs=-1)]: Done 570 tasks      | elapsed:  2.6min\n",
      "[Parallel(n_jobs=-1)]: Done 605 tasks      | elapsed:  2.7min\n",
      "[Parallel(n_jobs=-1)]: Done 640 tasks      | elapsed:  2.9min\n",
      "[Parallel(n_jobs=-1)]: Done 677 tasks      | elapsed:  3.1min\n",
      "[Parallel(n_jobs=-1)]: Done 720 out of 720 | elapsed:  3.3min finished\n",
      "C:\\Users\\Karol\\Anaconda3\\lib\\site-packages\\sklearn\\model_selection\\_search.py:813: DeprecationWarning: The default of the `iid` parameter will change from True to False in version 0.22 and will be removed in 0.24. This will change numeric results when test-set sizes are unequal.\n",
      "  DeprecationWarning)\n"
     ]
    },
    {
     "data": {
      "text/plain": [
       "GridSearchCV(cv=KFold(n_splits=10, random_state=None, shuffle=False),\n",
       "             error_score='raise-deprecating',\n",
       "             estimator=Pipeline(memory=None,\n",
       "                                steps=[('standardscaler',\n",
       "                                        StandardScaler(copy=True,\n",
       "                                                       with_mean=True,\n",
       "                                                       with_std=True)),\n",
       "                                       ('mlpregressor',\n",
       "                                        MLPRegressor(activation='relu',\n",
       "                                                     alpha=0.0001,\n",
       "                                                     batch_size='auto',\n",
       "                                                     beta_1=0.9, beta_2=0.999,\n",
       "                                                     early_stopping=False,\n",
       "                                                     epsilon=1e-08,\n",
       "                                                     hi...\n",
       "             param_grid={'mlpregressor__activation': ('identity', 'logistic',\n",
       "                                                      'tanh', 'relu'),\n",
       "                         'mlpregressor__hidden_layer_sizes': [30, 40, 45],\n",
       "                         'mlpregressor__learning_rate': ('constant',\n",
       "                                                         'invscaling'),\n",
       "                         'mlpregressor__solver': ('lbfgs', 'sgd', 'adam')},\n",
       "             pre_dispatch='2*n_jobs', refit='mean_squared_error',\n",
       "             return_train_score=True,\n",
       "             scoring={'mean_squared_error': 'neg_mean_squared_error'},\n",
       "             verbose=10)"
      ]
     },
     "execution_count": 92,
     "metadata": {},
     "output_type": "execute_result"
    }
   ],
   "source": [
    "from sklearn.neural_network  import MLPRegressor\n",
    "\n",
    "scoring = {'mean_squared_error': 'neg_mean_squared_error'} \n",
    "parameters = {'mlpregressor__hidden_layer_sizes': [30, 40, 45],\n",
    "              'mlpregressor__activation': ('identity', 'logistic', 'tanh', 'relu'),\n",
    "              'mlpregressor__solver':('lbfgs', 'sgd', 'adam'),\n",
    "              'mlpregressor__learning_rate':('constant', 'invscaling')}\n",
    "\n",
    "pp = make_pipeline(StandardScaler(), MLPRegressor())\n",
    "\n",
    "gs = GridSearchCV(pp, parameters, cv=skf, scoring=scoring, refit='mean_squared_error', return_train_score=True, n_jobs=-1, verbose=10)\n",
    "\n",
    "gs.fit(X_mat, y_mat)"
   ]
  },
  {
   "cell_type": "code",
   "execution_count": 97,
   "metadata": {},
   "outputs": [
    {
     "name": "stdout",
     "output_type": "stream",
     "text": [
      "El conjunto de hiperparámetros que tuvo mejor resultado:  Pipeline(memory=None,\n",
      "         steps=[('standardscaler',\n",
      "                 StandardScaler(copy=True, with_mean=True, with_std=True)),\n",
      "                ('mlpregressor',\n",
      "                 MLPRegressor(activation='identity', alpha=0.0001,\n",
      "                              batch_size='auto', beta_1=0.9, beta_2=0.999,\n",
      "                              early_stopping=False, epsilon=1e-08,\n",
      "                              hidden_layer_sizes=40, learning_rate='constant',\n",
      "                              learning_rate_init=0.001, max_iter=200,\n",
      "                              momentum=0.9, n_iter_no_change=10,\n",
      "                              nesterovs_momentum=True, power_t=0.5,\n",
      "                              random_state=None, shuffle=True, solver='lbfgs',\n",
      "                              tol=0.0001, validation_fraction=0.1,\n",
      "                              verbose=False, warm_start=False))],\n",
      "         verbose=False)\n",
      "El index del mejor conjunto de hiperparámetros:  6\n"
     ]
    },
    {
     "data": {
      "text/html": [
       "<div>\n",
       "<style scoped>\n",
       "    .dataframe tbody tr th:only-of-type {\n",
       "        vertical-align: middle;\n",
       "    }\n",
       "\n",
       "    .dataframe tbody tr th {\n",
       "        vertical-align: top;\n",
       "    }\n",
       "\n",
       "    .dataframe thead th {\n",
       "        text-align: right;\n",
       "    }\n",
       "</style>\n",
       "<table border=\"1\" class=\"dataframe\">\n",
       "  <thead>\n",
       "    <tr style=\"text-align: right;\">\n",
       "      <th></th>\n",
       "      <th>mean_fit_time</th>\n",
       "      <th>params</th>\n",
       "      <th>mean_test_mean_squared_error</th>\n",
       "      <th>rank_test_mean_squared_error</th>\n",
       "      <th>mean_train_mean_squared_error</th>\n",
       "    </tr>\n",
       "  </thead>\n",
       "  <tbody>\n",
       "    <tr>\n",
       "      <th>0</th>\n",
       "      <td>0.080768</td>\n",
       "      <td>{'mlpregressor__activation': 'identity', 'mlpr...</td>\n",
       "      <td>-2.002375</td>\n",
       "      <td>2</td>\n",
       "      <td>-1.602666</td>\n",
       "    </tr>\n",
       "    <tr>\n",
       "      <th>1</th>\n",
       "      <td>0.709054</td>\n",
       "      <td>{'mlpregressor__activation': 'identity', 'mlpr...</td>\n",
       "      <td>-2.006431</td>\n",
       "      <td>8</td>\n",
       "      <td>-1.604793</td>\n",
       "    </tr>\n",
       "    <tr>\n",
       "      <th>2</th>\n",
       "      <td>0.769835</td>\n",
       "      <td>{'mlpregressor__activation': 'identity', 'mlpr...</td>\n",
       "      <td>-4.313965</td>\n",
       "      <td>38</td>\n",
       "      <td>-4.001295</td>\n",
       "    </tr>\n",
       "    <tr>\n",
       "      <th>3</th>\n",
       "      <td>0.080699</td>\n",
       "      <td>{'mlpregressor__activation': 'identity', 'mlpr...</td>\n",
       "      <td>-2.002420</td>\n",
       "      <td>5</td>\n",
       "      <td>-1.602666</td>\n",
       "    </tr>\n",
       "    <tr>\n",
       "      <th>4</th>\n",
       "      <td>0.637888</td>\n",
       "      <td>{'mlpregressor__activation': 'identity', 'mlpr...</td>\n",
       "      <td>-49.390572</td>\n",
       "      <td>68</td>\n",
       "      <td>-50.639832</td>\n",
       "    </tr>\n",
       "    <tr>\n",
       "      <th>5</th>\n",
       "      <td>0.748348</td>\n",
       "      <td>{'mlpregressor__activation': 'identity', 'mlpr...</td>\n",
       "      <td>-3.764400</td>\n",
       "      <td>28</td>\n",
       "      <td>-3.491021</td>\n",
       "    </tr>\n",
       "    <tr>\n",
       "      <th>6</th>\n",
       "      <td>0.099507</td>\n",
       "      <td>{'mlpregressor__activation': 'identity', 'mlpr...</td>\n",
       "      <td>-2.002331</td>\n",
       "      <td>1</td>\n",
       "      <td>-1.602666</td>\n",
       "    </tr>\n",
       "    <tr>\n",
       "      <th>7</th>\n",
       "      <td>0.703575</td>\n",
       "      <td>{'mlpregressor__activation': 'identity', 'mlpr...</td>\n",
       "      <td>-2.006017</td>\n",
       "      <td>7</td>\n",
       "      <td>-1.604479</td>\n",
       "    </tr>\n",
       "    <tr>\n",
       "      <th>8</th>\n",
       "      <td>1.037747</td>\n",
       "      <td>{'mlpregressor__activation': 'identity', 'mlpr...</td>\n",
       "      <td>-2.701039</td>\n",
       "      <td>19</td>\n",
       "      <td>-2.332393</td>\n",
       "    </tr>\n",
       "    <tr>\n",
       "      <th>9</th>\n",
       "      <td>0.129904</td>\n",
       "      <td>{'mlpregressor__activation': 'identity', 'mlpr...</td>\n",
       "      <td>-2.002411</td>\n",
       "      <td>4</td>\n",
       "      <td>-1.602666</td>\n",
       "    </tr>\n",
       "  </tbody>\n",
       "</table>\n",
       "</div>"
      ],
      "text/plain": [
       "   mean_fit_time                                             params  \\\n",
       "0       0.080768  {'mlpregressor__activation': 'identity', 'mlpr...   \n",
       "1       0.709054  {'mlpregressor__activation': 'identity', 'mlpr...   \n",
       "2       0.769835  {'mlpregressor__activation': 'identity', 'mlpr...   \n",
       "3       0.080699  {'mlpregressor__activation': 'identity', 'mlpr...   \n",
       "4       0.637888  {'mlpregressor__activation': 'identity', 'mlpr...   \n",
       "5       0.748348  {'mlpregressor__activation': 'identity', 'mlpr...   \n",
       "6       0.099507  {'mlpregressor__activation': 'identity', 'mlpr...   \n",
       "7       0.703575  {'mlpregressor__activation': 'identity', 'mlpr...   \n",
       "8       1.037747  {'mlpregressor__activation': 'identity', 'mlpr...   \n",
       "9       0.129904  {'mlpregressor__activation': 'identity', 'mlpr...   \n",
       "\n",
       "   mean_test_mean_squared_error  rank_test_mean_squared_error  \\\n",
       "0                     -2.002375                             2   \n",
       "1                     -2.006431                             8   \n",
       "2                     -4.313965                            38   \n",
       "3                     -2.002420                             5   \n",
       "4                    -49.390572                            68   \n",
       "5                     -3.764400                            28   \n",
       "6                     -2.002331                             1   \n",
       "7                     -2.006017                             7   \n",
       "8                     -2.701039                            19   \n",
       "9                     -2.002411                             4   \n",
       "\n",
       "   mean_train_mean_squared_error  \n",
       "0                      -1.602666  \n",
       "1                      -1.604793  \n",
       "2                      -4.001295  \n",
       "3                      -1.602666  \n",
       "4                     -50.639832  \n",
       "5                      -3.491021  \n",
       "6                      -1.602666  \n",
       "7                      -1.604479  \n",
       "8                      -2.332393  \n",
       "9                      -1.602666  "
      ]
     },
     "execution_count": 97,
     "metadata": {},
     "output_type": "execute_result"
    }
   ],
   "source": [
    "results_mlp = gs\n",
    "mlp = pd.DataFrame(results_mlp.cv_results_)\n",
    "print(\"El conjunto de hiperparámetros que tuvo mejor resultado: \", results_mlp.best_estimator_)\n",
    "print(\"El index del mejor conjunto de hiperparámetros: \", results_mlp.best_index_)\n",
    "table_mlp = make_table(mlp).head(10)\n",
    "table_mlp"
   ]
  },
  {
   "cell_type": "code",
   "execution_count": 119,
   "metadata": {},
   "outputs": [
    {
     "data": {
      "text/html": [
       "<div>\n",
       "<style scoped>\n",
       "    .dataframe tbody tr th:only-of-type {\n",
       "        vertical-align: middle;\n",
       "    }\n",
       "\n",
       "    .dataframe tbody tr th {\n",
       "        vertical-align: top;\n",
       "    }\n",
       "\n",
       "    .dataframe thead th {\n",
       "        text-align: right;\n",
       "    }\n",
       "</style>\n",
       "<table border=\"1\" class=\"dataframe\">\n",
       "  <thead>\n",
       "    <tr style=\"text-align: right;\">\n",
       "      <th></th>\n",
       "      <th>mean_fit_time</th>\n",
       "      <th>params</th>\n",
       "      <th>mean_test_mean_squared_error</th>\n",
       "      <th>rank_test_mean_squared_error</th>\n",
       "      <th>mean_train_mean_squared_error</th>\n",
       "    </tr>\n",
       "  </thead>\n",
       "  <tbody>\n",
       "    <tr>\n",
       "      <th>0</th>\n",
       "      <td>0.993656</td>\n",
       "      <td>{'randomforestregressor__criterion': 'mse', 'r...</td>\n",
       "      <td>-1.603938</td>\n",
       "      <td>1</td>\n",
       "      <td>-0.200926</td>\n",
       "    </tr>\n",
       "    <tr>\n",
       "      <th>1</th>\n",
       "      <td>0.099507</td>\n",
       "      <td>{'mlpregressor__activation': 'identity', 'mlpr...</td>\n",
       "      <td>-2.002331</td>\n",
       "      <td>1</td>\n",
       "      <td>-1.602666</td>\n",
       "    </tr>\n",
       "    <tr>\n",
       "      <th>2</th>\n",
       "      <td>0.770993</td>\n",
       "      <td>{'logisticregression__penalty': 'none', 'logis...</td>\n",
       "      <td>-5.159494</td>\n",
       "      <td>1</td>\n",
       "      <td>-0.453433</td>\n",
       "    </tr>\n",
       "  </tbody>\n",
       "</table>\n",
       "</div>"
      ],
      "text/plain": [
       "   mean_fit_time                                             params  \\\n",
       "0       0.993656  {'randomforestregressor__criterion': 'mse', 'r...   \n",
       "1       0.099507  {'mlpregressor__activation': 'identity', 'mlpr...   \n",
       "2       0.770993  {'logisticregression__penalty': 'none', 'logis...   \n",
       "\n",
       "   mean_test_mean_squared_error rank_test_mean_squared_error  \\\n",
       "0                     -1.603938                            1   \n",
       "1                     -2.002331                            1   \n",
       "2                     -5.159494                            1   \n",
       "\n",
       "   mean_train_mean_squared_error  \n",
       "0                      -0.200926  \n",
       "1                      -1.602666  \n",
       "2                      -0.453433  "
      ]
     },
     "execution_count": 119,
     "metadata": {},
     "output_type": "execute_result"
    }
   ],
   "source": [
    "final_results = pd.DataFrame(columns = [\"mean_fit_time\", \"params\", \"mean_test_mean_squared_error\", \"rank_test_mean_squared_error\",\n",
    "                                            \"mean_train_mean_squared_error\"])\n",
    "final_results.loc[0] = table_rf.iloc[results_rf.best_index_]\n",
    "final_results.loc[1] = table_mlp.iloc[results_mlp.best_index_]\n",
    "final_results.loc[2] = table_lg.iloc[results_lg.best_index_]\n",
    "final_results"
   ]
  },
  {
   "cell_type": "code",
   "execution_count": null,
   "metadata": {},
   "outputs": [],
   "source": []
  },
  {
   "cell_type": "markdown",
   "metadata": {},
   "source": [
    "## Curvas de aprendizaje"
   ]
  },
  {
   "cell_type": "code",
   "execution_count": 131,
   "metadata": {},
   "outputs": [],
   "source": [
    "train_sizes, train_scores, valid_scores = learning_curve(MLPRegressor(activation='identity', alpha=0.0001,\n",
    "                              batch_size='auto', beta_1=0.9, beta_2=0.999,\n",
    "                              early_stopping=False, epsilon=1e-08,\n",
    "                              hidden_layer_sizes=40, learning_rate='constant',\n",
    "                              learning_rate_init=0.001, max_iter=200,\n",
    "                              momentum=0.9, n_iter_no_change=10,\n",
    "                              nesterovs_momentum=True, power_t=0.5,\n",
    "                              random_state=None, shuffle=True, solver='lbfgs',\n",
    "                              tol=0.0001, validation_fraction=0.1,\n",
    "                              verbose=False, warm_start=False), X_mat, y_mat, train_sizes=[50, 80, 110], cv=5)"
   ]
  },
  {
   "cell_type": "code",
   "execution_count": 133,
   "metadata": {},
   "outputs": [
    {
     "name": "stdout",
     "output_type": "stream",
     "text": [
      "[ 50  80 110]\n",
      "[[0.98841595 0.98171718 0.98171498 0.98171416 0.98171502]\n",
      " [0.97018061 0.95077869 0.95269375 0.95269463 0.95266937]\n",
      " [0.94826794 0.93941709 0.95202523 0.95200455 0.95200238]]\n",
      "[[0.70812659 0.70699751 0.74600686 0.5417128  0.54145114]\n",
      " [0.82924293 0.89220147 0.86614803 0.72589981 0.65017751]\n",
      " [0.85652941 0.88478524 0.85231019 0.75596841 0.75851996]]\n"
     ]
    }
   ],
   "source": [
    "print(train_sizes)\n",
    "print(train_scores)\n",
    "print(valid_scores)"
   ]
  },
  {
   "cell_type": "code",
   "execution_count": 134,
   "metadata": {},
   "outputs": [],
   "source": [
    "train_sizes, train_scores, valid_scores = learning_curve(RandomForestRegressor(bootstrap=True, criterion='mse',\n",
    "                                       max_depth=None, max_features='auto',\n",
    "                                       max_leaf_nodes=None,\n",
    "                                       min_impurity_decrease=0.0,\n",
    "                                       min_impurity_split=None,\n",
    "                                       min_samples_leaf=1, min_samples_split=2,\n",
    "                                       min_weight_fraction_leaf=0.0,\n",
    "                                       n_estimators=200, n_jobs=None,\n",
    "                                       oob_score=False, random_state=None,\n",
    "                                       verbose=0, warm_start=False), X_mat, y_mat, train_sizes=[50, 80, 110], cv=5)"
   ]
  },
  {
   "cell_type": "code",
   "execution_count": 135,
   "metadata": {},
   "outputs": [
    {
     "name": "stdout",
     "output_type": "stream",
     "text": [
      "[ 50  80 110]\n",
      "[[0.98868318 0.97752764 0.97898698 0.98118566 0.98015503]\n",
      " [0.99157212 0.98712756 0.98682184 0.98775586 0.986303  ]\n",
      " [0.98891296 0.98626827 0.98974896 0.98987057 0.9902073 ]]\n",
      "[[0.88992503 0.82228005 0.83722499 0.7423948  0.71265937]\n",
      " [0.87795891 0.8704512  0.84042227 0.75108436 0.70388978]\n",
      " [0.89629269 0.91864468 0.84320694 0.76621178 0.70734057]]\n"
     ]
    }
   ],
   "source": [
    "print(train_sizes)\n",
    "print(train_scores)\n",
    "print(valid_scores)"
   ]
  },
  {
   "cell_type": "code",
   "execution_count": 137,
   "metadata": {},
   "outputs": [
    {
     "name": "stderr",
     "output_type": "stream",
     "text": [
      "C:\\Users\\Karol\\Anaconda3\\lib\\site-packages\\sklearn\\model_selection\\_split.py:657: Warning: The least populated class in y has only 1 members, which is too few. The minimum number of members in any class cannot be less than n_splits=5.\n",
      "  \n",
      "C:\\Users\\Karol\\Anaconda3\\lib\\site-packages\\sklearn\\linear_model\\sag.py:337: ConvergenceWarning: The max_iter was reached which means the coef_ did not converge\n",
      "  \"the coef_ did not converge\", ConvergenceWarning)\n",
      "C:\\Users\\Karol\\Anaconda3\\lib\\site-packages\\sklearn\\linear_model\\sag.py:337: ConvergenceWarning: The max_iter was reached which means the coef_ did not converge\n",
      "  \"the coef_ did not converge\", ConvergenceWarning)\n",
      "C:\\Users\\Karol\\Anaconda3\\lib\\site-packages\\sklearn\\linear_model\\sag.py:337: ConvergenceWarning: The max_iter was reached which means the coef_ did not converge\n",
      "  \"the coef_ did not converge\", ConvergenceWarning)\n",
      "C:\\Users\\Karol\\Anaconda3\\lib\\site-packages\\sklearn\\linear_model\\sag.py:337: ConvergenceWarning: The max_iter was reached which means the coef_ did not converge\n",
      "  \"the coef_ did not converge\", ConvergenceWarning)\n",
      "C:\\Users\\Karol\\Anaconda3\\lib\\site-packages\\sklearn\\linear_model\\sag.py:337: ConvergenceWarning: The max_iter was reached which means the coef_ did not converge\n",
      "  \"the coef_ did not converge\", ConvergenceWarning)\n",
      "C:\\Users\\Karol\\Anaconda3\\lib\\site-packages\\sklearn\\linear_model\\sag.py:337: ConvergenceWarning: The max_iter was reached which means the coef_ did not converge\n",
      "  \"the coef_ did not converge\", ConvergenceWarning)\n",
      "C:\\Users\\Karol\\Anaconda3\\lib\\site-packages\\sklearn\\linear_model\\sag.py:337: ConvergenceWarning: The max_iter was reached which means the coef_ did not converge\n",
      "  \"the coef_ did not converge\", ConvergenceWarning)\n",
      "C:\\Users\\Karol\\Anaconda3\\lib\\site-packages\\sklearn\\linear_model\\sag.py:337: ConvergenceWarning: The max_iter was reached which means the coef_ did not converge\n",
      "  \"the coef_ did not converge\", ConvergenceWarning)\n",
      "C:\\Users\\Karol\\Anaconda3\\lib\\site-packages\\sklearn\\linear_model\\sag.py:337: ConvergenceWarning: The max_iter was reached which means the coef_ did not converge\n",
      "  \"the coef_ did not converge\", ConvergenceWarning)\n",
      "C:\\Users\\Karol\\Anaconda3\\lib\\site-packages\\sklearn\\linear_model\\sag.py:337: ConvergenceWarning: The max_iter was reached which means the coef_ did not converge\n",
      "  \"the coef_ did not converge\", ConvergenceWarning)\n",
      "C:\\Users\\Karol\\Anaconda3\\lib\\site-packages\\sklearn\\linear_model\\sag.py:337: ConvergenceWarning: The max_iter was reached which means the coef_ did not converge\n",
      "  \"the coef_ did not converge\", ConvergenceWarning)\n",
      "C:\\Users\\Karol\\Anaconda3\\lib\\site-packages\\sklearn\\linear_model\\sag.py:337: ConvergenceWarning: The max_iter was reached which means the coef_ did not converge\n",
      "  \"the coef_ did not converge\", ConvergenceWarning)\n",
      "C:\\Users\\Karol\\Anaconda3\\lib\\site-packages\\sklearn\\linear_model\\sag.py:337: ConvergenceWarning: The max_iter was reached which means the coef_ did not converge\n",
      "  \"the coef_ did not converge\", ConvergenceWarning)\n",
      "C:\\Users\\Karol\\Anaconda3\\lib\\site-packages\\sklearn\\linear_model\\sag.py:337: ConvergenceWarning: The max_iter was reached which means the coef_ did not converge\n",
      "  \"the coef_ did not converge\", ConvergenceWarning)\n",
      "C:\\Users\\Karol\\Anaconda3\\lib\\site-packages\\sklearn\\linear_model\\sag.py:337: ConvergenceWarning: The max_iter was reached which means the coef_ did not converge\n",
      "  \"the coef_ did not converge\", ConvergenceWarning)\n"
     ]
    }
   ],
   "source": [
    "train_sizes, train_scores, valid_scores = learning_curve(LogisticRegression(C=1.0, class_weight=None, dual=False,\n",
    "                                    fit_intercept=True, intercept_scaling=1,\n",
    "                                    l1_ratio=None, max_iter=150,\n",
    "                                    multi_class='multinomial', n_jobs=None,\n",
    "                                    penalty='none', random_state=None,\n",
    "                                    solver='sag', tol=0.0001, verbose=0,\n",
    "                                    warm_start=False), X_mat, y_mat, train_sizes=[50, 80, 110], cv=5)"
   ]
  },
  {
   "cell_type": "code",
   "execution_count": 138,
   "metadata": {},
   "outputs": [
    {
     "name": "stdout",
     "output_type": "stream",
     "text": [
      "[ 50  80 110]\n",
      "[[1.         1.         1.         1.         1.        ]\n",
      " [0.9875     0.9875     0.9625     0.9625     0.9625    ]\n",
      " [0.92727273 0.97272727 0.94545455 0.94545455 0.94545455]]\n",
      "[[0.15730337 0.19512195 0.18181818 0.14864865 0.10958904]\n",
      " [0.23595506 0.19512195 0.18181818 0.16216216 0.23287671]\n",
      " [0.25842697 0.20731707 0.11688312 0.21621622 0.21917808]]\n"
     ]
    }
   ],
   "source": [
    "print(train_sizes)\n",
    "print(train_scores)\n",
    "print(valid_scores)"
   ]
  },
  {
   "cell_type": "code",
   "execution_count": null,
   "metadata": {},
   "outputs": [],
   "source": []
  }
 ],
 "metadata": {
  "kernelspec": {
   "display_name": "Python 3",
   "language": "python",
   "name": "python3"
  },
  "language_info": {
   "codemirror_mode": {
    "name": "ipython",
    "version": 3
   },
   "file_extension": ".py",
   "mimetype": "text/x-python",
   "name": "python",
   "nbconvert_exporter": "python",
   "pygments_lexer": "ipython3",
   "version": "3.7.3"
  }
 },
 "nbformat": 4,
 "nbformat_minor": 2
}
